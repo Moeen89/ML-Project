{
 "cells": [
  {
   "cell_type": "markdown",
   "id": "24c3166e",
   "metadata": {
    "id": "fNs4bTc7vfym",
    "papermill": {
     "duration": 0.009958,
     "end_time": "2024-06-30T21:22:18.824933",
     "exception": false,
     "start_time": "2024-06-30T21:22:18.814975",
     "status": "completed"
    },
    "tags": []
   },
   "source": [
    "### Full Name : mohamad moeen samadi azad\n",
    "### Student Number : 400105093\n",
    "___"
   ]
  },
  {
   "cell_type": "markdown",
   "id": "e0bfeec4",
   "metadata": {
    "id": "6gM4Cg_pvtfV",
    "papermill": {
     "duration": 0.008895,
     "end_time": "2024-06-30T21:22:18.843013",
     "exception": false,
     "start_time": "2024-06-30T21:22:18.834118",
     "status": "completed"
    },
    "tags": []
   },
   "source": [
    "# Problem\n",
    "<b>In this project, you are free to use PyTorch; you don't have to use just NumPy.</b>\n",
    "<br>\n",
    "<br>\n",
    "In this project, you need to implement the Forward-Forward algorithm. The Forward-Forward (FF) approach is a learning algorithm proposed as an alternative to traditional backpropagation in training neural networks.\n",
    "<br>\n",
    "Unlike traditional methods which involve both forward and backward passes (backpropagation), the Forward-Forward approach only involves forward passes through the network. This means the network updates its weights and biases based on forward computations without the need for gradient-based optimization.\n",
    "<br>\n",
    "Training data is split into \"positive\" and \"negative\" examples.\n",
    "Positive data consists of typical input-output pairs from the dataset.\n",
    "Negative data can be generated in various ways, such as random noise or incorrect labels paired with inputs.\n",
    "The goal is for the network to distinguish between these positive and negative examples.\n",
    "<br>\n",
    "Each layer in the neural network learns independently, adjusting its parameters to increase the likelihood of correctly identifying positive and negative examples.\n",
    "This approach reduces the dependencies between layers seen in backpropagation where gradients need to flow backward through the entire network.\n",
    "<br>\n",
    "<br>\n",
    "If you want to know more about this algorithm, read <a href=\"https://arxiv.org/pdf/2212.13345\">this paper</a>."
   ]
  },
  {
   "cell_type": "markdown",
   "id": "ed905d0b",
   "metadata": {
    "id": "lGpbwqyzzfVm",
    "papermill": {
     "duration": 0.008883,
     "end_time": "2024-06-30T21:22:18.860940",
     "exception": false,
     "start_time": "2024-06-30T21:22:18.852057",
     "status": "completed"
    },
    "tags": []
   },
   "source": [
    "# Setup"
   ]
  },
  {
   "cell_type": "code",
   "execution_count": 1,
   "id": "6272ddc5",
   "metadata": {
    "execution": {
     "iopub.execute_input": "2024-06-30T21:22:18.880724Z",
     "iopub.status.busy": "2024-06-30T21:22:18.880352Z",
     "iopub.status.idle": "2024-06-30T21:22:25.629693Z",
     "shell.execute_reply": "2024-06-30T21:22:25.628879Z"
    },
    "id": "QfM5rNRarYtr",
    "papermill": {
     "duration": 6.762153,
     "end_time": "2024-06-30T21:22:25.632087",
     "exception": false,
     "start_time": "2024-06-30T21:22:18.869934",
     "status": "completed"
    },
    "tags": []
   },
   "outputs": [],
   "source": [
    "#####################################################################################\n",
    "#  You can add other packages but your final implementation should be with pytorch  #\n",
    "#####################################################################################\n",
    "\n",
    "import torch\n",
    "import torchvision\n",
    "from torchvision.datasets import MNIST\n",
    "from sklearn.metrics import classification_report, confusion_matrix\n",
    "import matplotlib.pyplot as plt\n",
    "import numpy as np\n",
    "import seaborn as sns\n",
    "from tqdm.notebook import tqdm\n",
    "\n",
    "\n",
    "\n",
    "device = 'cuda'"
   ]
  },
  {
   "cell_type": "markdown",
   "id": "18684a08",
   "metadata": {
    "id": "cIQhpYj70x4-",
    "papermill": {
     "duration": 0.008985,
     "end_time": "2024-06-30T21:22:25.650473",
     "exception": false,
     "start_time": "2024-06-30T21:22:25.641488",
     "status": "completed"
    },
    "tags": []
   },
   "source": [
    "# Section 1: Data (12 Points)"
   ]
  },
  {
   "cell_type": "markdown",
   "id": "a54b6103",
   "metadata": {
    "id": "gPYHs8wT048k",
    "papermill": {
     "duration": 0.008977,
     "end_time": "2024-06-30T21:22:25.668481",
     "exception": false,
     "start_time": "2024-06-30T21:22:25.659504",
     "status": "completed"
    },
    "tags": []
   },
   "source": [
    "## Download (2 Points)"
   ]
  },
  {
   "cell_type": "markdown",
   "id": "0f5df910",
   "metadata": {
    "id": "XLVL4hyW08KE",
    "papermill": {
     "duration": 0.009775,
     "end_time": "2024-06-30T21:22:25.687272",
     "exception": false,
     "start_time": "2024-06-30T21:22:25.677497",
     "status": "completed"
    },
    "tags": []
   },
   "source": [
    "Download MNIST data (train and test) (2 Points)."
   ]
  },
  {
   "cell_type": "code",
   "execution_count": 2,
   "id": "7de66cd1",
   "metadata": {
    "execution": {
     "iopub.execute_input": "2024-06-30T21:22:25.706751Z",
     "iopub.status.busy": "2024-06-30T21:22:25.706333Z",
     "iopub.status.idle": "2024-06-30T21:22:30.905505Z",
     "shell.execute_reply": "2024-06-30T21:22:30.903101Z"
    },
    "id": "tI1sPUvYrYts",
    "papermill": {
     "duration": 5.21369,
     "end_time": "2024-06-30T21:22:30.909992",
     "exception": false,
     "start_time": "2024-06-30T21:22:25.696302",
     "status": "completed"
    },
    "tags": []
   },
   "outputs": [
    {
     "name": "stdout",
     "output_type": "stream",
     "text": [
      "Downloading http://yann.lecun.com/exdb/mnist/train-images-idx3-ubyte.gz\n",
      "Failed to download (trying next):\n",
      "HTTP Error 403: Forbidden\n",
      "\n",
      "Downloading https://ossci-datasets.s3.amazonaws.com/mnist/train-images-idx3-ubyte.gz\n",
      "Downloading https://ossci-datasets.s3.amazonaws.com/mnist/train-images-idx3-ubyte.gz to ./data/MNIST/raw/train-images-idx3-ubyte.gz\n"
     ]
    },
    {
     "name": "stderr",
     "output_type": "stream",
     "text": [
      "100%|██████████| 9912422/9912422 [00:00<00:00, 11751532.41it/s]\n"
     ]
    },
    {
     "name": "stdout",
     "output_type": "stream",
     "text": [
      "Extracting ./data/MNIST/raw/train-images-idx3-ubyte.gz to ./data/MNIST/raw\n",
      "\n",
      "Downloading http://yann.lecun.com/exdb/mnist/train-labels-idx1-ubyte.gz\n",
      "Failed to download (trying next):\n",
      "HTTP Error 403: Forbidden\n",
      "\n",
      "Downloading https://ossci-datasets.s3.amazonaws.com/mnist/train-labels-idx1-ubyte.gz\n",
      "Downloading https://ossci-datasets.s3.amazonaws.com/mnist/train-labels-idx1-ubyte.gz to ./data/MNIST/raw/train-labels-idx1-ubyte.gz\n"
     ]
    },
    {
     "name": "stderr",
     "output_type": "stream",
     "text": [
      "100%|██████████| 28881/28881 [00:00<00:00, 345590.51it/s]\n"
     ]
    },
    {
     "name": "stdout",
     "output_type": "stream",
     "text": [
      "Extracting ./data/MNIST/raw/train-labels-idx1-ubyte.gz to ./data/MNIST/raw\n",
      "\n",
      "Downloading http://yann.lecun.com/exdb/mnist/t10k-images-idx3-ubyte.gz\n",
      "Failed to download (trying next):\n",
      "HTTP Error 403: Forbidden\n",
      "\n",
      "Downloading https://ossci-datasets.s3.amazonaws.com/mnist/t10k-images-idx3-ubyte.gz\n",
      "Downloading https://ossci-datasets.s3.amazonaws.com/mnist/t10k-images-idx3-ubyte.gz to ./data/MNIST/raw/t10k-images-idx3-ubyte.gz\n"
     ]
    },
    {
     "name": "stderr",
     "output_type": "stream",
     "text": [
      "100%|██████████| 1648877/1648877 [00:00<00:00, 3248079.18it/s]\n"
     ]
    },
    {
     "name": "stdout",
     "output_type": "stream",
     "text": [
      "Extracting ./data/MNIST/raw/t10k-images-idx3-ubyte.gz to ./data/MNIST/raw\n",
      "\n",
      "Downloading http://yann.lecun.com/exdb/mnist/t10k-labels-idx1-ubyte.gz\n",
      "Failed to download (trying next):\n",
      "HTTP Error 403: Forbidden\n",
      "\n",
      "Downloading https://ossci-datasets.s3.amazonaws.com/mnist/t10k-labels-idx1-ubyte.gz\n",
      "Downloading https://ossci-datasets.s3.amazonaws.com/mnist/t10k-labels-idx1-ubyte.gz to ./data/MNIST/raw/t10k-labels-idx1-ubyte.gz\n"
     ]
    },
    {
     "name": "stderr",
     "output_type": "stream",
     "text": [
      "100%|██████████| 4542/4542 [00:00<00:00, 1249542.75it/s]"
     ]
    },
    {
     "name": "stdout",
     "output_type": "stream",
     "text": [
      "Extracting ./data/MNIST/raw/t10k-labels-idx1-ubyte.gz to ./data/MNIST/raw\n",
      "\n"
     ]
    },
    {
     "name": "stderr",
     "output_type": "stream",
     "text": [
      "\n"
     ]
    }
   ],
   "source": [
    "#####################################################\n",
    "##                 Download Data                   ##\n",
    "####################[Your Code]######################\n",
    "transform = torchvision.transforms.Compose( \n",
    "    [\n",
    "        torchvision.transforms.ToTensor(),\n",
    "                \n",
    "    ]\n",
    ")\n",
    "train_dataset = MNIST(root='./data', train=True, download=True, transform=transform)\n",
    "\n",
    "\n"
   ]
  },
  {
   "cell_type": "markdown",
   "id": "22b22852",
   "metadata": {
    "id": "_pnkb0cA3w2E",
    "papermill": {
     "duration": 0.015527,
     "end_time": "2024-06-30T21:22:30.942505",
     "exception": false,
     "start_time": "2024-06-30T21:22:30.926978",
     "status": "completed"
    },
    "tags": []
   },
   "source": [
    "## Negative Sample (5 Points)"
   ]
  },
  {
   "cell_type": "markdown",
   "id": "05197a77",
   "metadata": {
    "id": "USA3eMBS34_T",
    "papermill": {
     "duration": 0.014782,
     "end_time": "2024-06-30T21:22:30.974137",
     "exception": false,
     "start_time": "2024-06-30T21:22:30.959355",
     "status": "completed"
    },
    "tags": []
   },
   "source": [
    "As you understand, we need to generate false samples. To do this, we first need to find a false label for each sample. Therefore, create a vector the size of the targets but with a false label for each sample."
   ]
  },
  {
   "cell_type": "code",
   "execution_count": 3,
   "id": "8028e31f",
   "metadata": {
    "execution": {
     "iopub.execute_input": "2024-06-30T21:22:31.004057Z",
     "iopub.status.busy": "2024-06-30T21:22:31.003647Z",
     "iopub.status.idle": "2024-06-30T21:22:31.012042Z",
     "shell.execute_reply": "2024-06-30T21:22:31.011063Z"
    },
    "id": "sej1c0g4rYtt",
    "papermill": {
     "duration": 0.025908,
     "end_time": "2024-06-30T21:22:31.014251",
     "exception": false,
     "start_time": "2024-06-30T21:22:30.988343",
     "status": "completed"
    },
    "tags": []
   },
   "outputs": [],
   "source": [
    "def get_false_targets(targets, number_of_classes=10):\n",
    "    \"\"\"\n",
    "    Generate false targets for a given set of true targets.\n",
    "\n",
    "    This function creates a set of false targets by ensuring that each false target\n",
    "    is different from the corresponding true target. The false targets are generated\n",
    "    by randomly selecting from a specified number of classes.\n",
    "\n",
    "    Parameters:\n",
    "    -----------\n",
    "    targets : torch.Tensor\n",
    "        A 1-dimensional tensor containing the true target labels. Each value in the tensor\n",
    "        should be an integer representing the class label of the corresponding sample.\n",
    "\n",
    "    number_of_classes : int, optional, default=10\n",
    "        The total number of classes from which to generate the false targets. This defines the\n",
    "        range [0, number_of_classes - 1] from which random class labels are sampled.\n",
    "\n",
    "    Returns:\n",
    "    --------\n",
    "    false_targets : torch.Tensor\n",
    "        A 1-dimensional tensor of the same shape as `targets`, containing the generated false\n",
    "        targets. Each value in this tensor is different from the corresponding value in `targets`.\n",
    "\n",
    "    Notes:\n",
    "    ------\n",
    "    - The function generates an initial set of random targets from the specified number of classes.\n",
    "    - For each target in the input, it ensures the false target is different from the true target\n",
    "      by repeatedly sampling a new random target until it is different.\n",
    "\n",
    "    Example:\n",
    "    --------\n",
    "    >>> import torch\n",
    "    >>> targets = torch.tensor([0, 1, 2, 3, 4, 5, 6, 7, 8, 9])\n",
    "    >>> false_targets = get_false_targets(targets, number_of_classes=10)\n",
    "    Generating false targets...\n",
    "    >>> print(false_targets)\n",
    "    tensor([1, 0, 3, 4, 5, 6, 7, 8, 9, 0])  # Example output, actual results will vary\n",
    "\n",
    "    \"\"\"\n",
    "    #####################################################\n",
    "    ##              Genrate false data                 ##\n",
    "    ####################[Your Code]######################\n",
    "    false_targets = torch.randint(0, number_of_classes, targets.shape).to(device)\n",
    "    false_targets = torch.where(false_targets == targets, (false_targets + 1) % number_of_classes, false_targets)\n",
    "    return false_targets\n",
    "\n",
    "\n"
   ]
  },
  {
   "cell_type": "markdown",
   "id": "655d533e",
   "metadata": {
    "id": "qft-VoLO7pAS",
    "papermill": {
     "duration": 0.012106,
     "end_time": "2024-06-30T21:22:31.039390",
     "exception": false,
     "start_time": "2024-06-30T21:22:31.027284",
     "status": "completed"
    },
    "tags": []
   },
   "source": [
    "## Overlay Label (5 Points)"
   ]
  },
  {
   "cell_type": "markdown",
   "id": "c35f3802",
   "metadata": {
    "id": "mod4AM-x7sHi",
    "papermill": {
     "duration": 0.01222,
     "end_time": "2024-06-30T21:22:31.064158",
     "exception": false,
     "start_time": "2024-06-30T21:22:31.051938",
     "status": "completed"
    },
    "tags": []
   },
   "source": [
    "The \"Overlay Label\" step in the Forward-Forward (FF) algorithm refers to a technique used to help the network differentiate between positive (real) and negative (false) samples by embedding additional information into the input data. You can do this as follows:\n",
    "<br>\n",
    "For each input vector, set the first 10 elements to zero, and then set the corresponding label (which can be the true label or the false label) to one."
   ]
  },
  {
   "cell_type": "code",
   "execution_count": 4,
   "id": "29dd057f",
   "metadata": {
    "execution": {
     "iopub.execute_input": "2024-06-30T21:22:31.090212Z",
     "iopub.status.busy": "2024-06-30T21:22:31.089941Z",
     "iopub.status.idle": "2024-06-30T21:22:31.098104Z",
     "shell.execute_reply": "2024-06-30T21:22:31.097412Z"
    },
    "id": "4ytVn5nH4Xg7",
    "papermill": {
     "duration": 0.023245,
     "end_time": "2024-06-30T21:22:31.099946",
     "exception": false,
     "start_time": "2024-06-30T21:22:31.076701",
     "status": "completed"
    },
    "tags": []
   },
   "outputs": [],
   "source": [
    "def overlay_label(data, target, classes=10):\n",
    "    \"\"\"\n",
    "    Overlay labels onto input data vectors.\n",
    "\n",
    "    This function modifies the input data vectors by zeroing out the first `classes`\n",
    "    elements in each vector and setting the element corresponding to the target label to 1.\n",
    "    This effectively encodes the target labels within the data vectors.\n",
    "\n",
    "    Parameters:\n",
    "    -----------\n",
    "    data : torch.Tensor\n",
    "        A 2-dimensional tensor where each row represents a data sample and each column\n",
    "        represents a feature. The shape of the tensor should be (number of samples, number of features).\n",
    "\n",
    "    target : torch.Tensor\n",
    "        A 1-dimensional tensor containing the target labels for each data sample. Each value\n",
    "        in the tensor should be an integer representing the class label of the corresponding sample.\n",
    "\n",
    "    classes : int, optional, default=10\n",
    "        The number of classes in the dataset. This determines how many elements in each data\n",
    "        vector will be used to overlay the labels. The function will zero out the first `classes`\n",
    "        elements and set one of them to 1 according to the target label.\n",
    "\n",
    "    Returns:\n",
    "    --------\n",
    "    overlayed_data : torch.Tensor\n",
    "        A 2-dimensional tensor of the same shape as `data`, with the labels overlaid. The first\n",
    "        `classes` elements of each data vector are modified to encode the target label.\n",
    "\n",
    "    Example:\n",
    "    --------\n",
    "    >>> import torch\n",
    "    >>> data = torch.randn(5, 20)  # Example data with 5 samples and 20 features\n",
    "    >>> target = torch.tensor([0, 1, 2, 3, 4])  # Example target labels\n",
    "    >>> overlayed_data = overlay_label(data, target, classes=10)\n",
    "    >>> print(overlayed_data)\n",
    "    tensor([[1.0000, 0.0000, 0.0000, 0.0000, 0.0000, 0.0000, 0.0000, 0.0000, 0.0000, 0.0000, ...],\n",
    "            [0.0000, 1.0000, 0.0000, 0.0000, 0.0000, 0.0000, 0.0000, 0.0000, 0.0000, 0.0000, ...],\n",
    "            [0.0000, 0.0000, 1.0000, 0.0000, 0.0000, 0.0000, 0.0000, 0.0000, 0.0000, 0.0000, ...],\n",
    "            [0.0000, 0.0000, 0.0000, 1.0000, 0.0000, 0.0000, 0.0000, 0.0000, 0.0000, 0.0000, ...],\n",
    "            [0.0000, 0.0000, 0.0000, 0.0000, 1.0000, 0.0000, 0.0000, 0.0000, 0.0000, 0.0000, ...]])\n",
    "    # The actual output will vary because the initial data is randomly generated.\n",
    "    \"\"\"\n",
    "    #####################################################\n",
    "    ##              Overlay false data                 ##\n",
    "    ####################[Your Code]######################\n",
    "    overlayed_data = data.clone()\n",
    "    overlayed_data[:, :classes] = 0\n",
    "    overlayed_data[torch.arange(overlayed_data.shape[0]), target] = 1\n",
    "\n",
    "    return overlayed_data\n",
    "    \n",
    "\n",
    "\n",
    "\n",
    "    "
   ]
  },
  {
   "cell_type": "markdown",
   "id": "153ce06c",
   "metadata": {
    "id": "D4MQY7CB8-5r",
    "papermill": {
     "duration": 0.01154,
     "end_time": "2024-06-30T21:22:31.123108",
     "exception": false,
     "start_time": "2024-06-30T21:22:31.111568",
     "status": "completed"
    },
    "tags": []
   },
   "source": [
    "# Section 2: Supervised FF (48 Points)"
   ]
  },
  {
   "cell_type": "markdown",
   "id": "fbf0b108",
   "metadata": {
    "id": "IyMhuVYAD5kJ",
    "papermill": {
     "duration": 0.011467,
     "end_time": "2024-06-30T21:22:31.146361",
     "exception": false,
     "start_time": "2024-06-30T21:22:31.134894",
     "status": "completed"
    },
    "tags": []
   },
   "source": [
    "## Layer (18 Points)"
   ]
  },
  {
   "cell_type": "markdown",
   "id": "7357f90a",
   "metadata": {
    "id": "FET-_8TmA3WA",
    "papermill": {
     "duration": 0.011443,
     "end_time": "2024-06-30T21:22:31.169534",
     "exception": false,
     "start_time": "2024-06-30T21:22:31.158091",
     "status": "completed"
    },
    "tags": []
   },
   "source": [
    "Now you should create a custom Layer and it is a little different from normal Layers in pytorch. In the __init__ method, first, set up a fully connected linear layer to transform input features to output features. Then, create an optimizer with a learning rate to update parameters during training. Also, define a threshold value to assist in the loss function, distinguishing between positive and negative samples. Lastly, set the number of epochs for training.\n",
    "<br>\n",
    "Next, in the forward method, you'll handle the forward pass through the network. Normalize the input vectors. Pass the normalized inputs through the fully connected linear layer. Finally, apply a ReLU activation function to introduce non-linearity.\n",
    "<br>\n",
    "Now, in the train method, you'll implement the core training logic. This method takes two arguments: x_pos (positive samples) and x_neg (negative samples). Iterate over a predefined number of epochs. In each epoch, compute the squared mean of the outputs for both positive and negative samples. These values will help calculate the loss, which encourages lower energy for positive samples and higher energy for negative ones. Then use your optimizer and loss and display the current loss. After training completes, return the transformed positive and negative samples."
   ]
  },
  {
   "cell_type": "code",
   "execution_count": 5,
   "id": "62517639",
   "metadata": {
    "execution": {
     "iopub.execute_input": "2024-06-30T21:22:31.194164Z",
     "iopub.status.busy": "2024-06-30T21:22:31.193894Z",
     "iopub.status.idle": "2024-06-30T21:22:31.206099Z",
     "shell.execute_reply": "2024-06-30T21:22:31.205317Z"
    },
    "id": "o8hBkyjsrYtt",
    "papermill": {
     "duration": 0.026697,
     "end_time": "2024-06-30T21:22:31.207921",
     "exception": false,
     "start_time": "2024-06-30T21:22:31.181224",
     "status": "completed"
    },
    "tags": []
   },
   "outputs": [],
   "source": [
    "class Layer(torch.nn.Linear):\n",
    "    \"\"\"\n",
    "    A custom linear layer with normalization, ReLU activation, and an integrated training loop.\n",
    "\n",
    "    This class defines a single linear layer with additional functionality for normalization\n",
    "    and ReLU activation. It also includes methods for training the layer using a custom\n",
    "    objective function in the context of the forward-forward algorithm.\n",
    "\n",
    "    Parameters:\n",
    "    -----------\n",
    "    in_features : int\n",
    "        The number of input features to the linear layer.\n",
    "    out_features : int\n",
    "        The number of output features from the linear layer.\n",
    "\n",
    "    Attributes:\n",
    "    -----------\n",
    "    fc : torch.nn.Linear\n",
    "        The linear layer that performs the transformation.\n",
    "    opt : torch.optim.Adam\n",
    "        The Adam optimizer for training the linear layer.\n",
    "    threshold : float\n",
    "        The threshold used in the custom loss function.\n",
    "    num_epochs : int\n",
    "        The number of epochs to run during training.\n",
    "\n",
    "    Methods:\n",
    "    --------\n",
    "    forward(x):\n",
    "        Forward pass through the layer. Normalizes the input, applies the linear transformation,\n",
    "        and then applies the ReLU activation.\n",
    "\n",
    "    train(x_pos, x_neg):\n",
    "        Trains the layer using positive and negative samples. The training loop runs for a\n",
    "        specified number of epochs and optimizes a custom loss function based on the forward-forward\n",
    "        algorithm.\n",
    "\n",
    "    Notes:\n",
    "    ------\n",
    "    - The `forward` method normalizes the input vectors to unit norm before applying the linear layer.\n",
    "    - The `train` method uses a custom loss function that encourages the activations for positive samples\n",
    "      to be above a threshold and for negative samples to be below the threshold.\n",
    "    - The loss function is computed using `torch.log1p(torch.exp(...))` for numerical stability.\n",
    "\n",
    "    \"\"\"\n",
    "    def __init__(self, in_features, out_features, bias=True,  dtype=None):\n",
    "        super().__init__(in_features, out_features, bias, device, dtype)\n",
    "        self.relu = torch.nn.ReLU()\n",
    "        self.opt = torch.optim.Adam(self.parameters(), lr=0.03)\n",
    "        self.threshold = 2.0\n",
    "        self.num_epochs = 1000\n",
    "\n",
    "\n",
    "\n",
    "    def forward(self, x):\n",
    "        #####################################################\n",
    "        ##             Implement forward part              ##\n",
    "        ####################[Your Code]######################\n",
    "        x_direction = x / (x.norm(2, 1, keepdim=True) + 1e-4)\n",
    "        return self.relu(\n",
    "            torch.mm(x_direction, self.weight.T) +\n",
    "            self.bias.unsqueeze(0))\n",
    "\n",
    "\n",
    "    def train(self, x_pos, x_neg):\n",
    "        \"\"\"\n",
    "        Train the layer using positive and negative samples.\n",
    "\n",
    "        Parameters:\n",
    "        -----------\n",
    "        x_pos : torch.Tensor\n",
    "            The positive samples for training. Each row is a sample with `in_features` dimensions.\n",
    "        x_neg : torch.Tensor\n",
    "            The negative samples for training. Each row is a sample with `in_features` dimensions.\n",
    "\n",
    "        Returns:\n",
    "        --------\n",
    "        torch.Tensor, torch.Tensor\n",
    "            The activations of the positive and negative samples after training, with ReLU applied.\n",
    "\n",
    "        \"\"\"\n",
    "        #####################################################\n",
    "        ##               Train Layer object                ##\n",
    "        ####################[Your Code]######################\n",
    "        for i in tqdm(range(self.num_epochs)):\n",
    "            g_pos = self.forward(x_pos).pow(2).mean(1)\n",
    "            g_neg = self.forward(x_neg).pow(2).mean(1)\n",
    "            # The following loss pushes pos (neg) samples to\n",
    "            # values larger (smaller) than the self.threshold.\n",
    "            loss = torch.log(1 + torch.exp(torch.cat([\n",
    "                -g_pos + self.threshold,\n",
    "                g_neg - self.threshold]))).mean()\n",
    "            self.opt.zero_grad()\n",
    "            # this backward just compute the derivative and hence\n",
    "            # is not considered backpropagation.\n",
    "            loss.backward()\n",
    "            self.opt.step()\n",
    "        return self.forward(x_pos).detach(), self.forward(x_neg).detach()  \n",
    "\n",
    "        "
   ]
  },
  {
   "cell_type": "markdown",
   "id": "f0e5ce1e",
   "metadata": {
    "id": "kOLG_GtDD-x_",
    "papermill": {
     "duration": 0.011647,
     "end_time": "2024-06-30T21:22:31.231218",
     "exception": false,
     "start_time": "2024-06-30T21:22:31.219571",
     "status": "completed"
    },
    "tags": []
   },
   "source": [
    "## Supervised Network (18 Points)"
   ]
  },
  {
   "cell_type": "markdown",
   "id": "d6969734",
   "metadata": {
    "id": "V81-r-P7CYkC",
    "papermill": {
     "duration": 0.011479,
     "end_time": "2024-06-30T21:22:31.254558",
     "exception": false,
     "start_time": "2024-06-30T21:22:31.243079",
     "status": "completed"
    },
    "tags": []
   },
   "source": [
    "This code defines a supervised neural network called SupervisedNet. This network consists of multiple layers, each defined by the Layer class previously created. The SupervisedNet initializes these layers based on the provided dimensions (dims). Each layer is connected to the next in sequence, forming a deep neural network architecture.\n",
    "<br>\n",
    "The train method is responsible for training the network. It iterates over a predefined number of epochs. For each epoch, the method generates false targets for the positive samples. It then modifies both positive and negative samples using the overlay label technique. After that, it iterates through each layer in the network and trains them using the train method of the Layer class.\n",
    "<br>\n",
    "In the predict method, the network makes predictions based on input data x. For each possible label (from 0 to 9 in this case), the input is modified using an overlay label technique, and the resulting \"goodness\" of the input for each label is computed through the layers. The label with the highest goodness is chosen as the predicted label."
   ]
  },
  {
   "cell_type": "code",
   "execution_count": 6,
   "id": "b28f1d10",
   "metadata": {
    "execution": {
     "iopub.execute_input": "2024-06-30T21:22:31.279127Z",
     "iopub.status.busy": "2024-06-30T21:22:31.278878Z",
     "iopub.status.idle": "2024-06-30T21:22:31.288675Z",
     "shell.execute_reply": "2024-06-30T21:22:31.287859Z"
    },
    "id": "DShhwiSN_1a6",
    "papermill": {
     "duration": 0.024383,
     "end_time": "2024-06-30T21:22:31.290616",
     "exception": false,
     "start_time": "2024-06-30T21:22:31.266233",
     "status": "completed"
    },
    "tags": []
   },
   "outputs": [],
   "source": [
    "class SupervisedNet(torch.nn.Module):\n",
    "    \"\"\"\n",
    "    A supervised neural network for classification using a custom Layer class and forward-forward algorithm.\n",
    "\n",
    "    This class defines a multi-layer neural network for supervised learning tasks. The network is composed of\n",
    "    multiple custom linear layers, each using normalization, ReLU activation, and a custom training procedure\n",
    "    based on the forward-forward algorithm. The network predicts class labels for input samples and is trained\n",
    "    using both positive and negative samples.\n",
    "\n",
    "    Parameters:\n",
    "    -----------\n",
    "    dims : list of int\n",
    "        A list specifying the dimensions of each layer in the network. The length of the list determines\n",
    "        the number of layers, and each element specifies the number of units in that layer.\n",
    "\n",
    "    Attributes:\n",
    "    -----------\n",
    "    layers : list of Layer\n",
    "        A list containing the layers of the network, each an instance of the custom Layer class.\n",
    "    num_epochs : int\n",
    "        The number of epochs to run during training.\n",
    "\n",
    "    Methods:\n",
    "    --------\n",
    "    predict(x):\n",
    "        Predict the class labels for input data `x`.\n",
    "\n",
    "    train(x_pos, y):\n",
    "        Train the network using positive samples `x_pos` and their corresponding labels `y`.\n",
    "\n",
    "    \"\"\"\n",
    "    def __init__(self, dims):\n",
    "        super().__init__()\n",
    "        self.layers = []\n",
    "        for d in range(len(dims) - 1):\n",
    "            self.layers += [Layer(dims[d], dims[d + 1]).to(device)]\n",
    "\n",
    "        \n",
    "\n",
    "    def predict(self, x):\n",
    "        \"\"\"\n",
    "        Predict class labels for the input data.\n",
    "\n",
    "        Parameters:\n",
    "        -----------\n",
    "        x : torch.Tensor\n",
    "            The input data tensor.\n",
    "\n",
    "        Returns:\n",
    "        --------\n",
    "        torch.Tensor\n",
    "            A 1-dimensional tensor containing the predicted class labels for each input sample.\n",
    "\n",
    "        \"\"\"\n",
    "        goodness_per_label = []\n",
    "        for label in range(10):\n",
    "            h = overlay_label(x, label)\n",
    "            goodness = []\n",
    "            for layer in self.layers:\n",
    "                h = layer(h)\n",
    "                goodness += [h.pow(2).mean(1)]\n",
    "            goodness_per_label += [sum(goodness).unsqueeze(1)]\n",
    "        goodness_per_label = torch.cat(goodness_per_label, 1)\n",
    "        return goodness_per_label.argmax(1)\n",
    "\n",
    "\n",
    "    def train(self, x_pos, x_neg):\n",
    "        \"\"\"\n",
    "        Train the network using positive samples and their corresponding labels.\n",
    "\n",
    "        Parameters:\n",
    "        -----------\n",
    "        x_pos : torch.Tensor\n",
    "            The positive samples for training.\n",
    "        y : torch.Tensor\n",
    "            A 1-dimensional tensor containing the true labels for the positive samples.\n",
    "\n",
    "        \"\"\"\n",
    "        h_pos, h_neg = x_pos, x_neg\n",
    "        for i, layer in enumerate(self.layers):\n",
    "            print('training layer', i, '...')\n",
    "            h_pos, h_neg = layer.train(h_pos, h_neg)\n",
    "        "
   ]
  },
  {
   "cell_type": "markdown",
   "id": "b7744da0",
   "metadata": {
    "id": "j3IONzA9EDYo",
    "papermill": {
     "duration": 0.01158,
     "end_time": "2024-06-30T21:22:31.313900",
     "exception": false,
     "start_time": "2024-06-30T21:22:31.302320",
     "status": "completed"
    },
    "tags": []
   },
   "source": [
    "## Train (6 Points)"
   ]
  },
  {
   "cell_type": "markdown",
   "id": "6b4be1d9",
   "metadata": {
    "id": "rHTo9fuSDNAB",
    "papermill": {
     "duration": 0.011473,
     "end_time": "2024-06-30T21:22:31.337028",
     "exception": false,
     "start_time": "2024-06-30T21:22:31.325555",
     "status": "completed"
    },
    "tags": []
   },
   "source": [
    "Now, define the supervised network, prepare the input data, and train the model."
   ]
  },
  {
   "cell_type": "code",
   "execution_count": 7,
   "id": "01793b53",
   "metadata": {
    "execution": {
     "iopub.execute_input": "2024-06-30T21:22:31.361678Z",
     "iopub.status.busy": "2024-06-30T21:22:31.361404Z",
     "iopub.status.idle": "2024-06-30T21:23:25.785847Z",
     "shell.execute_reply": "2024-06-30T21:23:25.784763Z"
    },
    "id": "d6QASCQsrYtu",
    "papermill": {
     "duration": 54.438986,
     "end_time": "2024-06-30T21:23:25.787940",
     "exception": false,
     "start_time": "2024-06-30T21:22:31.348954",
     "status": "completed"
    },
    "tags": []
   },
   "outputs": [
    {
     "name": "stdout",
     "output_type": "stream",
     "text": [
      "training layer 0 ...\n"
     ]
    },
    {
     "data": {
      "application/vnd.jupyter.widget-view+json": {
       "model_id": "b7124ff507e34ce09ac47978d1d77138",
       "version_major": 2,
       "version_minor": 0
      },
      "text/plain": [
       "  0%|          | 0/1000 [00:00<?, ?it/s]"
      ]
     },
     "metadata": {},
     "output_type": "display_data"
    },
    {
     "name": "stdout",
     "output_type": "stream",
     "text": [
      "training layer 1 ...\n"
     ]
    },
    {
     "data": {
      "application/vnd.jupyter.widget-view+json": {
       "model_id": "fbf0db25905649bc8538ee6b29df7242",
       "version_major": 2,
       "version_minor": 0
      },
      "text/plain": [
       "  0%|          | 0/1000 [00:00<?, ?it/s]"
      ]
     },
     "metadata": {},
     "output_type": "display_data"
    },
    {
     "name": "stdout",
     "output_type": "stream",
     "text": [
      "train acc: 0.9185999631881714\n"
     ]
    }
   ],
   "source": [
    "#####################################################\n",
    "##       Prepare data and train the model          ##\n",
    "####################[Your Code]######################\n",
    "train_loader = torch.utils.data.DataLoader(train_dataset, batch_size=20000, shuffle=True)\n",
    "model = SupervisedNet([28*28,1000,1000]).to(device)\n",
    "x, y = next(iter(train_loader))\n",
    "x = x.view(x.shape[0], -1)\n",
    "x, y = x.to(device), y.to(device)\n",
    "x_pos = overlay_label(x, y)\n",
    "x_neg = overlay_label(x, get_false_targets(y))\n",
    "\n",
    "\n",
    "model.train(x_pos, x_neg)\n",
    "\n",
    "print('train acc:', model.predict(x).eq(y).float().mean().item())\n",
    "\n"
   ]
  },
  {
   "cell_type": "markdown",
   "id": "3eb4d9ee",
   "metadata": {
    "id": "X2P03N6jEJtv",
    "papermill": {
     "duration": 0.012351,
     "end_time": "2024-06-30T21:23:25.812912",
     "exception": false,
     "start_time": "2024-06-30T21:23:25.800561",
     "status": "completed"
    },
    "tags": []
   },
   "source": [
    "## Metrics and Confusion Matrix (6 Points)"
   ]
  },
  {
   "cell_type": "markdown",
   "id": "81d566cd",
   "metadata": {
    "id": "VUYRAAhGDwyf",
    "papermill": {
     "duration": 0.011946,
     "end_time": "2024-06-30T21:23:25.837174",
     "exception": false,
     "start_time": "2024-06-30T21:23:25.825228",
     "status": "completed"
    },
    "tags": []
   },
   "source": [
    "Now, prepare the test data and utilize the predict method to predict the label for each test sample. Then, you can use ready-made methods from sklearn or any other library to print and plot metrics, as well as the confusion matrix."
   ]
  },
  {
   "cell_type": "code",
   "execution_count": 8,
   "id": "d0ec26ba",
   "metadata": {
    "execution": {
     "iopub.execute_input": "2024-06-30T21:23:25.863522Z",
     "iopub.status.busy": "2024-06-30T21:23:25.862944Z",
     "iopub.status.idle": "2024-06-30T21:23:28.836857Z",
     "shell.execute_reply": "2024-06-30T21:23:28.835970Z"
    },
    "id": "g_bxokxXrYtu",
    "papermill": {
     "duration": 2.989866,
     "end_time": "2024-06-30T21:23:28.839314",
     "exception": false,
     "start_time": "2024-06-30T21:23:25.849448",
     "status": "completed"
    },
    "tags": []
   },
   "outputs": [
    {
     "name": "stdout",
     "output_type": "stream",
     "text": [
      "              precision    recall  f1-score   support\n",
      "\n",
      "           0       0.96      0.96      0.96      1976\n",
      "           1       0.93      0.98      0.95      2198\n",
      "           2       0.93      0.88      0.90      2003\n",
      "           3       0.90      0.89      0.89      1994\n",
      "           4       0.89      0.91      0.90      1940\n",
      "           5       0.91      0.85      0.88      1796\n",
      "           6       0.94      0.94      0.94      2021\n",
      "           7       0.93      0.91      0.92      2064\n",
      "           8       0.86      0.89      0.88      1951\n",
      "           9       0.86      0.87      0.87      2057\n",
      "\n",
      "    accuracy                           0.91     20000\n",
      "   macro avg       0.91      0.91      0.91     20000\n",
      "weighted avg       0.91      0.91      0.91     20000\n",
      "\n"
     ]
    },
    {
     "data": {
      "image/png": "[encoded data removed]",
      "text/plain": [
       "<Figure size 1000x800 with 2 Axes>"
      ]
     },
     "metadata": {},
     "output_type": "display_data"
    }
   ],
   "source": [
    "#####################################################\n",
    "##  Calculate metrics and plot confusion matrix    ##\n",
    "####################[Your Code]######################\n",
    "\n",
    "x, y = next(iter(train_loader))\n",
    "x = x.view(x.shape[0], -1)\n",
    "x, y = x.to(device), y.to(device)\n",
    "y_true = y.cpu().numpy()\n",
    "y_pred = model.predict(x).cpu().numpy()\n",
    "print(classification_report(y_true, y_pred))\n",
    "cm = confusion_matrix(y_true, y_pred)\n",
    "plt.figure(figsize=(10, 8))\n",
    "sns.heatmap(cm, annot=True, fmt='d', cmap='viridis')\n",
    "plt.xlabel('Predicted')\n",
    "plt.ylabel('True')\n",
    "plt.show()\n",
    "\n",
    "\n",
    "\n"
   ]
  },
  {
   "cell_type": "markdown",
   "id": "465802ff",
   "metadata": {
    "id": "CKe0STEQGeVX",
    "papermill": {
     "duration": 0.014551,
     "end_time": "2024-06-30T21:23:28.868478",
     "exception": false,
     "start_time": "2024-06-30T21:23:28.853927",
     "status": "completed"
    },
    "tags": []
   },
   "source": [
    "# Section 2: Unsupervised FF (40 Points)"
   ]
  },
  {
   "cell_type": "markdown",
   "id": "688d2ba1",
   "metadata": {
    "id": "bGCdasvEHziQ",
    "papermill": {
     "duration": 0.013859,
     "end_time": "2024-06-30T21:23:28.896972",
     "exception": false,
     "start_time": "2024-06-30T21:23:28.883113",
     "status": "completed"
    },
    "tags": []
   },
   "source": [
    "## Negative Data Without Labels (15 Points)"
   ]
  },
  {
   "cell_type": "markdown",
   "id": "c485961d",
   "metadata": {
    "id": "Yo5NaceiH5No",
    "papermill": {
     "duration": 0.012906,
     "end_time": "2024-06-30T21:23:28.923263",
     "exception": false,
     "start_time": "2024-06-30T21:23:28.910357",
     "status": "completed"
    },
    "tags": []
   },
   "source": [
    "These helper functions are used in the UnsupervisedNet class to generate false data for training. The get_blur_mask function generates a blur mask, which is a random binary mask used to blend two input samples together. This mask is created by convolving a randomly generated binary tensor with a predefined filter. The resulting mask is used to blend two input samples together by selecting pixels from each sample based on the mask.\n",
    "<br>\n",
    "The generate_false_data function generates false data by blending pairs of input samples together using the blur mask generated by the get_blur_mask function. It takes the original input data as input and returns a new tensor containing the blended samples. During the blending process, pairs of input samples are selected randomly, and their pixels are blended together using the blur mask. This process creates distorted versions of the input data, which can be used as negative samples during training."
   ]
  },
  {
   "cell_type": "code",
   "execution_count": 9,
   "id": "6fbbcd03",
   "metadata": {
    "execution": {
     "iopub.execute_input": "2024-06-30T21:23:28.951398Z",
     "iopub.status.busy": "2024-06-30T21:23:28.951051Z",
     "iopub.status.idle": "2024-06-30T21:23:28.961273Z",
     "shell.execute_reply": "2024-06-30T21:23:28.960372Z"
    },
    "id": "sBWiAygwrYtv",
    "papermill": {
     "duration": 0.026699,
     "end_time": "2024-06-30T21:23:28.963134",
     "exception": false,
     "start_time": "2024-06-30T21:23:28.936435",
     "status": "completed"
    },
    "tags": []
   },
   "outputs": [],
   "source": [
    "def get_blur_mask(shape):\n",
    "    \"\"\"\n",
    "    Generate a blurred binary mask for mixing data samples.\n",
    "\n",
    "    This function creates a binary mask with the same shape as the input data. The mask is generated by\n",
    "    first creating a random binary mask and then applying a convolution with a smoothing filter to blur the mask.\n",
    "\n",
    "    Parameters:\n",
    "    -----------\n",
    "    shape : tuple\n",
    "        The shape of the mask to be generated. Typically, this should match the shape of the data samples\n",
    "        along the feature dimensions.\n",
    "\n",
    "    Returns:\n",
    "    --------\n",
    "    torch.Tensor\n",
    "        A binary mask tensor with the specified shape, blurred using a 1D convolution.\n",
    "\n",
    "    Notes:\n",
    "    ------\n",
    "    - The mask is created by sampling random binary values (0 or 1) and then applying a 1D convolution with\n",
    "      a filter `[0.25, 0.5, 0.25]` to smooth the mask.\n",
    "    - The mask is rounded to the nearest integer (0 or 1) after blurring to ensure it remains binary.\n",
    "    - The mask is used to blend two different data samples in the `generate_false_data` function.\n",
    "\n",
    "    \"\"\"\n",
    "    #####################################################\n",
    "    ##               Generate blur mask                ##\n",
    "    ####################[Your Code]######################\n",
    "    mask = torch.randint(2, (shape,)).float().to(device)\n",
    "    mask = torch.nn.functional.conv1d(mask.unsqueeze(0).unsqueeze(0), torch.tensor([0.25, 0.5, 0.25]).unsqueeze(0).unsqueeze(0).to(device), padding=1)\n",
    "    mask = torch.round(mask)\n",
    "    return mask.squeeze(0).squeeze(0)\n",
    "\n",
    "\n",
    "    \n",
    "\n",
    "def generate_false_data(data):\n",
    "    \"\"\"\n",
    "    Generate false data samples by mixing pairs of real data samples.\n",
    "\n",
    "    This function creates false data samples by randomly selecting pairs of real data samples and blending\n",
    "    them using a blurred binary mask. The resulting false data samples retain the structure of the original\n",
    "    data but with altered feature values.\n",
    "\n",
    "    Parameters:\n",
    "    -----------\n",
    "    data : torch.Tensor\n",
    "        A 2-dimensional tensor where each row represents a data sample. The shape of the tensor should be\n",
    "        (number of samples, number of features).\n",
    "\n",
    "    Returns:\n",
    "    --------\n",
    "    torch.Tensor\n",
    "        A tensor of the same shape as `data`, containing the generated false data samples.\n",
    "\n",
    "    Notes:\n",
    "    ------\n",
    "    - The function generates a random permutation of indices to select pairs of data samples for blending.\n",
    "    - A blurred binary mask is generated using the `get_blur_mask` function, which is used to combine pairs\n",
    "      of data samples.\n",
    "    - Each false data sample is created by taking a weighted combination of two randomly selected samples\n",
    "      using the mask.\n",
    "\n",
    "    \"\"\"\n",
    "    #####################################################\n",
    "    ##              Generate false data                ##\n",
    "    ####################[Your Code]######################\n",
    "    indices = torch.randint(data.shape[0],(2*data.shape[0],))\n",
    "    mask = get_blur_mask(data.shape[1])\n",
    "    false_data = [mask * data[indices[i]] + (1 - mask) * data[indices[i+1]] for i in range(data.shape[0])]\n",
    "    false_data_tensor = torch.stack(false_data)\n",
    "    t = false_data_tensor.to(device)\n",
    "    \n",
    "    return t\n",
    "\n",
    "\n",
    "    "
   ]
  },
  {
   "cell_type": "markdown",
   "id": "d1efdc89",
   "metadata": {
    "id": "uOeNCrgnHZww",
    "papermill": {
     "duration": 0.012931,
     "end_time": "2024-06-30T21:23:28.989194",
     "exception": false,
     "start_time": "2024-06-30T21:23:28.976263",
     "status": "completed"
    },
    "tags": []
   },
   "source": [
    "## Unsupervised Network (18 Points)"
   ]
  },
  {
   "cell_type": "markdown",
   "id": "6a385377",
   "metadata": {
    "id": "-I-VzjBAG5VA",
    "papermill": {
     "duration": 0.0129,
     "end_time": "2024-06-30T21:23:29.015286",
     "exception": false,
     "start_time": "2024-06-30T21:23:29.002386",
     "status": "completed"
    },
    "tags": []
   },
   "source": [
    "This code defines an unsupervised neural network called UnsupervisedNet. Similar to the supervised version, this network consists of multiple layers, each defined by the Layer class. The UnsupervisedNet initializes these layers based on the provided dimensions (dims), and it also includes a fully connected output layer.\n",
    "<br>\n",
    "In the train_fc method, the fully connected output layer is trained using the provided input data and target labels. The input data passes through all layers of the network, and the output of the last layer is used as input to the fully connected layer. The loss is computed using the cross-entropy loss function, and the parameters of the fully connected layer are updated using the optimizer.\n",
    "<br>\n",
    "The train method is responsible for training the entire network. It iterates over the provided positive samples and corresponding negative samples. For each pair of positive and negative samples, the method iterates through each layer in the network and trains them using the train method of the Layer class.\n",
    "<br>\n",
    "The predict method is used to make predictions based on input data x. The input data passes through all layers of the network, and the output of the last layer is used as input to the fully connected output layer. The predicted labels are obtained by selecting the class with the highest probability from the output of the fully connected layer."
   ]
  },
  {
   "cell_type": "code",
   "execution_count": 10,
   "id": "b70b30b0",
   "metadata": {
    "execution": {
     "iopub.execute_input": "2024-06-30T21:23:29.043177Z",
     "iopub.status.busy": "2024-06-30T21:23:29.042725Z",
     "iopub.status.idle": "2024-06-30T21:23:29.056630Z",
     "shell.execute_reply": "2024-06-30T21:23:29.055871Z"
    },
    "id": "KYwuYuf9rYtv",
    "papermill": {
     "duration": 0.030057,
     "end_time": "2024-06-30T21:23:29.058456",
     "exception": false,
     "start_time": "2024-06-30T21:23:29.028399",
     "status": "completed"
    },
    "tags": []
   },
   "outputs": [],
   "source": [
    "class UnsupervisedNet(torch.nn.Module):\n",
    "    \"\"\"\n",
    "    An unsupervised neural network for training using the forward-forward algorithm without labeled data.\n",
    "\n",
    "    This class defines a multi-layer neural network that can be trained in an unsupervised manner. The network\n",
    "    consists of multiple custom linear layers and a final fully connected layer for classification. The\n",
    "    network is trained using positive and negative samples generated without using labels.\n",
    "\n",
    "    Parameters:\n",
    "    -----------\n",
    "    dims : list of int\n",
    "        A list specifying the dimensions of each layer in the network. The length of the list determines\n",
    "        the number of layers, and each element specifies the number of units in that layer.\n",
    "\n",
    "    Attributes:\n",
    "    -----------\n",
    "    layers : list of Layer\n",
    "        A list containing the layers of the network, each an instance of the custom Layer class.\n",
    "    fc : torch.nn.Linear\n",
    "        The final fully connected layer for classification.\n",
    "    num_epochs : int\n",
    "        The number of epochs to run during training.\n",
    "    opt : torch.optim.Adam\n",
    "        The Adam optimizer for training the final fully connected layer.\n",
    "\n",
    "    Methods:\n",
    "    --------\n",
    "    train_fc(X, y):\n",
    "        Train the final fully connected layer using the features extracted by the network layers and the true labels.\n",
    "\n",
    "    predict(x):\n",
    "        Predict the class labels for input data `x`.\n",
    "\n",
    "    train(x_pos, x_negs):\n",
    "        Train the network using positive samples `x_pos` and multiple sets of negative samples `x_negs`.\n",
    "\n",
    "    Notes:\n",
    "    ------\n",
    "    - The `train` method uses a custom loss function to train the network on positive and negative samples,\n",
    "      aiming to separate the activations of positive samples from those of negative samples.\n",
    "    - The `train_fc` method trains the final fully connected layer using cross-entropy loss and true labels.\n",
    "    - The `predict` method uses the trained network to predict class labels by passing the input through the\n",
    "      layers and the final fully connected layer.\n",
    "\n",
    "    \"\"\"\n",
    "    def __init__(self, dims):\n",
    "        super(UnsupervisedNet, self).__init__()\n",
    "        #####################################################\n",
    "        ##           Initialize unsupervised net           ##\n",
    "        ####################[Your Code]######################\n",
    "        self.layers = [Layer(dims[i], dims[i+1]) for i in range(len(dims) - 1)]\n",
    "        self.fc = torch.nn.Linear(dims[-1], 10)\n",
    "        self.num_epochs = 1000\n",
    "        self.opt = torch.optim.Adam(self.fc.parameters(), lr=0.001)\n",
    "\n",
    "\n",
    "    def train_fc(self, X, y):\n",
    "        \"\"\"\n",
    "        Train the final fully connected layer using the extracted features and true labels.\n",
    "\n",
    "        Parameters:\n",
    "        -----------\n",
    "        X : torch.Tensor\n",
    "            The input data tensor, where each row is a sample with `dims[-1]` features.\n",
    "        y : torch.Tensor\n",
    "            A 1-dimensional tensor containing the true labels for the input samples.\n",
    "\n",
    "        \"\"\"\n",
    "        #####################################################\n",
    "        ##           Train classification head             ##\n",
    "        ####################[Your Code]######################\n",
    "        z = x\n",
    "        l = torch.nn.CrossEntropyLoss()\n",
    "\n",
    "        for layer in self.layers:\n",
    "            z = layer(z)\n",
    "        z = z.detach()\n",
    "        for epoch in range(self.num_epochs):\n",
    "            self.opt.zero_grad()\n",
    "            y_pred = self.fc(z)\n",
    "            loss = l(y_pred, y)\n",
    "            loss.backward()\n",
    "            self.opt.step()\n",
    "\n",
    "\n",
    "\n",
    "    def predict(self, x):\n",
    "        \"\"\"\n",
    "        Predict class labels for the input data.\n",
    "\n",
    "        Parameters:\n",
    "        -----------\n",
    "        x : torch.Tensor\n",
    "            The input data tensor, where each row is a sample with `dims[-1]` features.\n",
    "\n",
    "        Returns:\n",
    "        --------\n",
    "        torch.Tensor\n",
    "            A 1-dimensional tensor containing the predicted class labels for each input sample.\n",
    "\n",
    "        \"\"\"\n",
    "        #####################################################\n",
    "        ##                  Predict label                  ##\n",
    "        ####################[Your Code]######################\n",
    "        y = x\n",
    "        for layer in self.layers:\n",
    "            y = layer(y)\n",
    "        y = self.fc(y)\n",
    "        return torch.argmax(y, dim=1)\n",
    "\n",
    "\n",
    "    def train(self, x_pos, x_negs):\n",
    "        \"\"\"\n",
    "        Train the network using positive and negative samples.\n",
    "\n",
    "        Parameters:\n",
    "        -----------\n",
    "        x_pos : torch.Tensor\n",
    "            The positive samples for training, where each row is a sample with `dims[-1]` features.\n",
    "        x_negs : list of torch.Tensor\n",
    "            A list of tensors containing the negative samples for training. Each tensor should have the same\n",
    "            shape as `x_pos`.\n",
    "\n",
    "        \"\"\"\n",
    "        #####################################################\n",
    "        ##             Train unsupervised part             ##\n",
    "        ####################[Your Code]######################\n",
    "        h_pos, h_neg = x_pos, x_neg\n",
    "        for i, layer in enumerate(self.layers):\n",
    "            print('training layer', i, '...')\n",
    "            h_pos, h_neg = layer.train(h_pos, h_neg)"
   ]
  },
  {
   "cell_type": "markdown",
   "id": "ec678bae",
   "metadata": {
    "id": "srx4SreMIT-t",
    "papermill": {
     "duration": 0.013127,
     "end_time": "2024-06-30T21:23:29.084802",
     "exception": false,
     "start_time": "2024-06-30T21:23:29.071675",
     "status": "completed"
    },
    "tags": []
   },
   "source": [
    "## Train (3 Points)"
   ]
  },
  {
   "cell_type": "markdown",
   "id": "f39f4a1e",
   "metadata": {
    "id": "DLLOOvG-IbV2",
    "papermill": {
     "duration": 0.012943,
     "end_time": "2024-06-30T21:23:29.110998",
     "exception": false,
     "start_time": "2024-06-30T21:23:29.098055",
     "status": "completed"
    },
    "tags": []
   },
   "source": [
    "Now, define the unsupervised network, prepare the input data, and train the model."
   ]
  },
  {
   "cell_type": "code",
   "execution_count": 11,
   "id": "dc81f433",
   "metadata": {
    "execution": {
     "iopub.execute_input": "2024-06-30T21:23:29.138609Z",
     "iopub.status.busy": "2024-06-30T21:23:29.138335Z",
     "iopub.status.idle": "2024-06-30T21:24:12.235109Z",
     "shell.execute_reply": "2024-06-30T21:24:12.233949Z"
    },
    "id": "GT-mDziyrYtv",
    "papermill": {
     "duration": 43.113081,
     "end_time": "2024-06-30T21:24:12.237405",
     "exception": false,
     "start_time": "2024-06-30T21:23:29.124324",
     "status": "completed"
    },
    "tags": []
   },
   "outputs": [
    {
     "name": "stdout",
     "output_type": "stream",
     "text": [
      "training layer 0 ...\n"
     ]
    },
    {
     "data": {
      "application/vnd.jupyter.widget-view+json": {
       "model_id": "9ceda935b13e4129b897e943259116a7",
       "version_major": 2,
       "version_minor": 0
      },
      "text/plain": [
       "  0%|          | 0/1000 [00:00<?, ?it/s]"
      ]
     },
     "metadata": {},
     "output_type": "display_data"
    },
    {
     "name": "stdout",
     "output_type": "stream",
     "text": [
      "training layer 1 ...\n"
     ]
    },
    {
     "data": {
      "application/vnd.jupyter.widget-view+json": {
       "model_id": "2438261604ad444890f18da78fbe989f",
       "version_major": 2,
       "version_minor": 0
      },
      "text/plain": [
       "  0%|          | 0/1000 [00:00<?, ?it/s]"
      ]
     },
     "metadata": {},
     "output_type": "display_data"
    },
    {
     "name": "stdout",
     "output_type": "stream",
     "text": [
      "train acc: 0.8777333498001099\n"
     ]
    }
   ],
   "source": [
    "#####################################################\n",
    "##       Prepare data and train the model          ##\n",
    "####################[Your Code]######################\n",
    "train_loader = torch.utils.data.DataLoader(train_dataset, batch_size=15000, shuffle=True)\n",
    "model = UnsupervisedNet([28*28,1000,1000]).to(device)\n",
    "x, y = next(iter(train_loader))\n",
    "x = x.view(x.shape[0], -1)\n",
    "x, y = x.to(device), y.to(device)\n",
    "x_pos = x\n",
    "x_neg = generate_false_data(x)\n",
    "\n",
    "model.train(x_pos, x_neg)\n",
    "model.train_fc(x_pos, y)\n",
    "\n",
    "\n",
    "print('train acc:', model.predict(x).eq(y).float().mean().item())\n",
    "\n",
    "\n"
   ]
  },
  {
   "cell_type": "markdown",
   "id": "84ec87f0",
   "metadata": {
    "id": "FiipoXbpIi65",
    "papermill": {
     "duration": 0.014076,
     "end_time": "2024-06-30T21:24:12.266659",
     "exception": false,
     "start_time": "2024-06-30T21:24:12.252583",
     "status": "completed"
    },
    "tags": []
   },
   "source": [
    "## Metrics and Confusion Matrix (4 Points)"
   ]
  },
  {
   "cell_type": "markdown",
   "id": "e6d8c393",
   "metadata": {
    "id": "Lql3UnFKIi65",
    "papermill": {
     "duration": 0.013567,
     "end_time": "2024-06-30T21:24:12.294868",
     "exception": false,
     "start_time": "2024-06-30T21:24:12.281301",
     "status": "completed"
    },
    "tags": []
   },
   "source": [
    "Now, prepare the test data and utilize the predict method to predict the label for each test sample. Then, you can use ready-made methods from sklearn or any other library to print and plot metrics, as well as the confusion matrix."
   ]
  },
  {
   "cell_type": "code",
   "execution_count": 12,
   "id": "58e6fa82",
   "metadata": {
    "execution": {
     "iopub.execute_input": "2024-06-30T21:24:12.323862Z",
     "iopub.status.busy": "2024-06-30T21:24:12.323490Z",
     "iopub.status.idle": "2024-06-30T21:24:14.612026Z",
     "shell.execute_reply": "2024-06-30T21:24:14.611059Z"
    },
    "id": "GjzwLmbyrYtv",
    "papermill": {
     "duration": 2.305361,
     "end_time": "2024-06-30T21:24:14.614067",
     "exception": false,
     "start_time": "2024-06-30T21:24:12.308706",
     "status": "completed"
    },
    "tags": []
   },
   "outputs": [
    {
     "name": "stdout",
     "output_type": "stream",
     "text": [
      "              precision    recall  f1-score   support\n",
      "\n",
      "           0       0.91      0.92      0.92      1505\n",
      "           1       0.97      0.96      0.96      1603\n",
      "           2       0.87      0.88      0.88      1501\n",
      "           3       0.84      0.83      0.83      1519\n",
      "           4       0.82      0.81      0.81      1422\n",
      "           5       0.80      0.82      0.81      1355\n",
      "           6       0.94      0.94      0.94      1518\n",
      "           7       0.90      0.88      0.89      1628\n",
      "           8       0.83      0.85      0.84      1419\n",
      "           9       0.80      0.79      0.80      1530\n",
      "\n",
      "    accuracy                           0.87     15000\n",
      "   macro avg       0.87      0.87      0.87     15000\n",
      "weighted avg       0.87      0.87      0.87     15000\n",
      "\n"
     ]
    },
    {
     "data": {
      "image/png": "[encoded data removed]",
      "text/plain": [
       "<Figure size 1000x800 with 2 Axes>"
      ]
     },
     "metadata": {},
     "output_type": "display_data"
    }
   ],
   "source": [
    "#####################################################\n",
    "##  Calculate metrics and plot confusion matrix    ##\n",
    "####################[Your Code]######################\n",
    "x, y = next(iter(train_loader))\n",
    "x = x.view(x.shape[0], -1)\n",
    "x, y = x.to(device), y.to(device)\n",
    "y_true = y.cpu().numpy()\n",
    "y_pred = model.predict(x).cpu().numpy()\n",
    "print(classification_report(y_true, y_pred))\n",
    "cm = confusion_matrix(y_true, y_pred)\n",
    "plt.figure(figsize=(10, 8))\n",
    "sns.heatmap(cm, annot=True, fmt='d', cmap='viridis')\n",
    "plt.xlabel('Predicted')\n",
    "plt.ylabel('True')\n",
    "plt.show()\n",
    "\n"
   ]
  }
 ],
 "metadata": {
  "accelerator": "GPU",
  "colab": {
   "gpuType": "T4",
   "provenance": []
  },
  "kaggle": {
   "accelerator": "gpu",
   "dataSources": [],
   "dockerImageVersionId": 30733,
   "isGpuEnabled": true,
   "isInternetEnabled": true,
   "language": "python",
   "sourceType": "notebook"
  },
  "kernelspec": {
   "display_name": "Python 3",
   "language": "python",
   "name": "python3"
  },
  "language_info": {
   "codemirror_mode": {
    "name": "ipython",
    "version": 3
   },
   "file_extension": ".py",
   "mimetype": "text/x-python",
   "name": "python",
   "nbconvert_exporter": "python",
   "pygments_lexer": "ipython3",
   "version": "3.10.13"
  },
  "papermill": {
   "default_parameters": {},
   "duration": 119.913238,
   "end_time": "2024-06-30T21:24:16.053175",
   "environment_variables": {},
   "exception": null,
   "input_path": "__notebook__.ipynb",
   "output_path": "__notebook__.ipynb",
   "parameters": {},
   "start_time": "2024-06-30T21:22:16.139937",
   "version": "2.5.0"
  },
  "widgets": {
   "application/vnd.jupyter.widget-state+json": {
    "state": {
     "1fb58f3d547e4d66a66021b1a00b840f": {
      "model_module": "@jupyter-widgets/controls",
      "model_module_version": "1.5.0",
      "model_name": "ProgressStyleModel",
      "state": {
       "_model_module": "@jupyter-widgets/controls",
       "_model_module_version": "1.5.0",
       "_model_name": "ProgressStyleModel",
       "_view_count": null,
       "_view_module": "@jupyter-widgets/base",
       "_view_module_version": "1.2.0",
       "_view_name": "StyleView",
       "bar_color": null,
       "description_width": ""
      }
     },
     "2438261604ad444890f18da78fbe989f": {
      "model_module": "@jupyter-widgets/controls",
      "model_module_version": "1.5.0",
      "model_name": "HBoxModel",
      "state": {
       "_dom_classes": [],
       "_model_module": "@jupyter-widgets/controls",
       "_model_module_version": "1.5.0",
       "_model_name": "HBoxModel",
       "_view_count": null,
       "_view_module": "@jupyter-widgets/controls",
       "_view_module_version": "1.5.0",
       "_view_name": "HBoxView",
       "box_style": "",
       "children": [
        "IPY_MODEL_ec81a378a4914a22aaf07827d0b4527e",
        "IPY_MODEL_4bdcf5c1fa4c4958be2fa776612c1d8c",
        "IPY_MODEL_5c620da30417416f8c7acae0848bd014"
       ],
       "layout": "IPY_MODEL_5c3283b30aa0468c9d3c0a80f4642007"
      }
     },
     "243a6b772b6e4d6c8b882bfafb2a236f": {
      "model_module": "@jupyter-widgets/base",
      "model_module_version": "1.2.0",
      "model_name": "LayoutModel",
      "state": {
       "_model_module": "@jupyter-widgets/base",
       "_model_module_version": "1.2.0",
       "_model_name": "LayoutModel",
       "_view_count": null,
       "_view_module": "@jupyter-widgets/base",
       "_view_module_version": "1.2.0",
       "_view_name": "LayoutView",
       "align_content": null,
       "align_items": null,
       "align_self": null,
       "border": null,
       "bottom": null,
       "display": null,
       "flex": null,
       "flex_flow": null,
       "grid_area": null,
       "grid_auto_columns": null,
       "grid_auto_flow": null,
       "grid_auto_rows": null,
       "grid_column": null,
       "grid_gap": null,
       "grid_row": null,
       "grid_template_areas": null,
       "grid_template_columns": null,
       "grid_template_rows": null,
       "height": null,
       "justify_content": null,
       "justify_items": null,
       "left": null,
       "margin": null,
       "max_height": null,
       "max_width": null,
       "min_height": null,
       "min_width": null,
       "object_fit": null,
       "object_position": null,
       "order": null,
       "overflow": null,
       "overflow_x": null,
       "overflow_y": null,
       "padding": null,
       "right": null,
       "top": null,
       "visibility": null,
       "width": null
      }
     },
     "265862f4ffda426192a9bdea742b6ebc": {
      "model_module": "@jupyter-widgets/controls",
      "model_module_version": "1.5.0",
      "model_name": "HTMLModel",
      "state": {
       "_dom_classes": [],
       "_model_module": "@jupyter-widgets/controls",
       "_model_module_version": "1.5.0",
       "_model_name": "HTMLModel",
       "_view_count": null,
       "_view_module": "@jupyter-widgets/controls",
       "_view_module_version": "1.5.0",
       "_view_name": "HTMLView",
       "description": "",
       "description_tooltip": null,
       "layout": "IPY_MODEL_8d4df34d90cc4ef7b535f9f5548f20f6",
       "placeholder": "​",
       "style": "IPY_MODEL_8f6b3df7989a4388afdb147ccde20d2a",
       "value": " 1000/1000 [00:23&lt;00:00, 42.11it/s]"
      }
     },
     "2d20604270e346e0b289c3b63958601e": {
      "model_module": "@jupyter-widgets/controls",
      "model_module_version": "1.5.0",
      "model_name": "ProgressStyleModel",
      "state": {
       "_model_module": "@jupyter-widgets/controls",
       "_model_module_version": "1.5.0",
       "_model_name": "ProgressStyleModel",
       "_view_count": null,
       "_view_module": "@jupyter-widgets/base",
       "_view_module_version": "1.2.0",
       "_view_name": "StyleView",
       "bar_color": null,
       "description_width": ""
      }
     },
     "2ed281b1858e4b92b0c2c7d188babb13": {
      "model_module": "@jupyter-widgets/controls",
      "model_module_version": "1.5.0",
      "model_name": "DescriptionStyleModel",
      "state": {
       "_model_module": "@jupyter-widgets/controls",
       "_model_module_version": "1.5.0",
       "_model_name": "DescriptionStyleModel",
       "_view_count": null,
       "_view_module": "@jupyter-widgets/base",
       "_view_module_version": "1.2.0",
       "_view_name": "StyleView",
       "description_width": ""
      }
     },
     "36ac6ee312334e848c7c03126c0a9272": {
      "model_module": "@jupyter-widgets/controls",
      "model_module_version": "1.5.0",
      "model_name": "DescriptionStyleModel",
      "state": {
       "_model_module": "@jupyter-widgets/controls",
       "_model_module_version": "1.5.0",
       "_model_name": "DescriptionStyleModel",
       "_view_count": null,
       "_view_module": "@jupyter-widgets/base",
       "_view_module_version": "1.2.0",
       "_view_name": "StyleView",
       "description_width": ""
      }
     },
     "46db54f692cf4584b6ae09b68e83e1e5": {
      "model_module": "@jupyter-widgets/base",
      "model_module_version": "1.2.0",
      "model_name": "LayoutModel",
      "state": {
       "_model_module": "@jupyter-widgets/base",
       "_model_module_version": "1.2.0",
       "_model_name": "LayoutModel",
       "_view_count": null,
       "_view_module": "@jupyter-widgets/base",
       "_view_module_version": "1.2.0",
       "_view_name": "LayoutView",
       "align_content": null,
       "align_items": null,
       "align_self": null,
       "border": null,
       "bottom": null,
       "display": null,
       "flex": null,
       "flex_flow": null,
       "grid_area": null,
       "grid_auto_columns": null,
       "grid_auto_flow": null,
       "grid_auto_rows": null,
       "grid_column": null,
       "grid_gap": null,
       "grid_row": null,
       "grid_template_areas": null,
       "grid_template_columns": null,
       "grid_template_rows": null,
       "height": null,
       "justify_content": null,
       "justify_items": null,
       "left": null,
       "margin": null,
       "max_height": null,
       "max_width": null,
       "min_height": null,
       "min_width": null,
       "object_fit": null,
       "object_position": null,
       "order": null,
       "overflow": null,
       "overflow_x": null,
       "overflow_y": null,
       "padding": null,
       "right": null,
       "top": null,
       "visibility": null,
       "width": null
      }
     },
     "4bdcf5c1fa4c4958be2fa776612c1d8c": {
      "model_module": "@jupyter-widgets/controls",
      "model_module_version": "1.5.0",
      "model_name": "FloatProgressModel",
      "state": {
       "_dom_classes": [],
       "_model_module": "@jupyter-widgets/controls",
       "_model_module_version": "1.5.0",
       "_model_name": "FloatProgressModel",
       "_view_count": null,
       "_view_module": "@jupyter-widgets/controls",
       "_view_module_version": "1.5.0",
       "_view_name": "ProgressView",
       "bar_style": "success",
       "description": "",
       "description_tooltip": null,
       "layout": "IPY_MODEL_6f3f70206c644aba9d7425db33fe9c2e",
       "max": 1000.0,
       "min": 0.0,
       "orientation": "horizontal",
       "style": "IPY_MODEL_62f9dfcf9ee14dd8af646f8715a07750",
       "value": 1000.0
      }
     },
     "4e0d3481fc9a4d1a844a8a50a5f58c27": {
      "model_module": "@jupyter-widgets/controls",
      "model_module_version": "1.5.0",
      "model_name": "HTMLModel",
      "state": {
       "_dom_classes": [],
       "_model_module": "@jupyter-widgets/controls",
       "_model_module_version": "1.5.0",
       "_model_name": "HTMLModel",
       "_view_count": null,
       "_view_module": "@jupyter-widgets/controls",
       "_view_module_version": "1.5.0",
       "_view_name": "HTMLView",
       "description": "",
       "description_tooltip": null,
       "layout": "IPY_MODEL_569a591f531349a794a5644971ec53ca",
       "placeholder": "​",
       "style": "IPY_MODEL_2ed281b1858e4b92b0c2c7d188babb13",
       "value": " 1000/1000 [00:17&lt;00:00, 55.85it/s]"
      }
     },
     "569a591f531349a794a5644971ec53ca": {
      "model_module": "@jupyter-widgets/base",
      "model_module_version": "1.2.0",
      "model_name": "LayoutModel",
      "state": {
       "_model_module": "@jupyter-widgets/base",
       "_model_module_version": "1.2.0",
       "_model_name": "LayoutModel",
       "_view_count": null,
       "_view_module": "@jupyter-widgets/base",
       "_view_module_version": "1.2.0",
       "_view_name": "LayoutView",
       "align_content": null,
       "align_items": null,
       "align_self": null,
       "border": null,
       "bottom": null,
       "display": null,
       "flex": null,
       "flex_flow": null,
       "grid_area": null,
       "grid_auto_columns": null,
       "grid_auto_flow": null,
       "grid_auto_rows": null,
       "grid_column": null,
       "grid_gap": null,
       "grid_row": null,
       "grid_template_areas": null,
       "grid_template_columns": null,
       "grid_template_rows": null,
       "height": null,
       "justify_content": null,
       "justify_items": null,
       "left": null,
       "margin": null,
       "max_height": null,
       "max_width": null,
       "min_height": null,
       "min_width": null,
       "object_fit": null,
       "object_position": null,
       "order": null,
       "overflow": null,
       "overflow_x": null,
       "overflow_y": null,
       "padding": null,
       "right": null,
       "top": null,
       "visibility": null,
       "width": null
      }
     },
     "5c3283b30aa0468c9d3c0a80f4642007": {
      "model_module": "@jupyter-widgets/base",
      "model_module_version": "1.2.0",
      "model_name": "LayoutModel",
      "state": {
       "_model_module": "@jupyter-widgets/base",
       "_model_module_version": "1.2.0",
       "_model_name": "LayoutModel",
       "_view_count": null,
       "_view_module": "@jupyter-widgets/base",
       "_view_module_version": "1.2.0",
       "_view_name": "LayoutView",
       "align_content": null,
       "align_items": null,
       "align_self": null,
       "border": null,
       "bottom": null,
       "display": null,
       "flex": null,
       "flex_flow": null,
       "grid_area": null,
       "grid_auto_columns": null,
       "grid_auto_flow": null,
       "grid_auto_rows": null,
       "grid_column": null,
       "grid_gap": null,
       "grid_row": null,
       "grid_template_areas": null,
       "grid_template_columns": null,
       "grid_template_rows": null,
       "height": null,
       "justify_content": null,
       "justify_items": null,
       "left": null,
       "margin": null,
       "max_height": null,
       "max_width": null,
       "min_height": null,
       "min_width": null,
       "object_fit": null,
       "object_position": null,
       "order": null,
       "overflow": null,
       "overflow_x": null,
       "overflow_y": null,
       "padding": null,
       "right": null,
       "top": null,
       "visibility": null,
       "width": null
      }
     },
     "5c620da30417416f8c7acae0848bd014": {
      "model_module": "@jupyter-widgets/controls",
      "model_module_version": "1.5.0",
      "model_name": "HTMLModel",
      "state": {
       "_dom_classes": [],
       "_model_module": "@jupyter-widgets/controls",
       "_model_module_version": "1.5.0",
       "_model_name": "HTMLModel",
       "_view_count": null,
       "_view_module": "@jupyter-widgets/controls",
       "_view_module_version": "1.5.0",
       "_view_name": "HTMLView",
       "description": "",
       "description_tooltip": null,
       "layout": "IPY_MODEL_243a6b772b6e4d6c8b882bfafb2a236f",
       "placeholder": "​",
       "style": "IPY_MODEL_d72172bfd7dc4207aedecce7ee99d4b2",
       "value": " 1000/1000 [00:20&lt;00:00, 48.54it/s]"
      }
     },
     "6282170e2a3f48d98c78dc601da06dca": {
      "model_module": "@jupyter-widgets/controls",
      "model_module_version": "1.5.0",
      "model_name": "HTMLModel",
      "state": {
       "_dom_classes": [],
       "_model_module": "@jupyter-widgets/controls",
       "_model_module_version": "1.5.0",
       "_model_name": "HTMLModel",
       "_view_count": null,
       "_view_module": "@jupyter-widgets/controls",
       "_view_module_version": "1.5.0",
       "_view_name": "HTMLView",
       "description": "",
       "description_tooltip": null,
       "layout": "IPY_MODEL_46db54f692cf4584b6ae09b68e83e1e5",
       "placeholder": "​",
       "style": "IPY_MODEL_36ac6ee312334e848c7c03126c0a9272",
       "value": "100%"
      }
     },
     "62f9dfcf9ee14dd8af646f8715a07750": {
      "model_module": "@jupyter-widgets/controls",
      "model_module_version": "1.5.0",
      "model_name": "ProgressStyleModel",
      "state": {
       "_model_module": "@jupyter-widgets/controls",
       "_model_module_version": "1.5.0",
       "_model_name": "ProgressStyleModel",
       "_view_count": null,
       "_view_module": "@jupyter-widgets/base",
       "_view_module_version": "1.2.0",
       "_view_name": "StyleView",
       "bar_color": null,
       "description_width": ""
      }
     },
     "6a5b4fff5e634edd804d79046241ea3e": {
      "model_module": "@jupyter-widgets/controls",
      "model_module_version": "1.5.0",
      "model_name": "HTMLModel",
      "state": {
       "_dom_classes": [],
       "_model_module": "@jupyter-widgets/controls",
       "_model_module_version": "1.5.0",
       "_model_name": "HTMLModel",
       "_view_count": null,
       "_view_module": "@jupyter-widgets/controls",
       "_view_module_version": "1.5.0",
       "_view_name": "HTMLView",
       "description": "",
       "description_tooltip": null,
       "layout": "IPY_MODEL_e84c95a405564ac89b201786caeb8de9",
       "placeholder": "​",
       "style": "IPY_MODEL_83d4fc817df4449f85ea4a8825a84093",
       "value": "100%"
      }
     },
     "6e652c510ed3478eab5e095cab6e4918": {
      "model_module": "@jupyter-widgets/base",
      "model_module_version": "1.2.0",
      "model_name": "LayoutModel",
      "state": {
       "_model_module": "@jupyter-widgets/base",
       "_model_module_version": "1.2.0",
       "_model_name": "LayoutModel",
       "_view_count": null,
       "_view_module": "@jupyter-widgets/base",
       "_view_module_version": "1.2.0",
       "_view_name": "LayoutView",
       "align_content": null,
       "align_items": null,
       "align_self": null,
       "border": null,
       "bottom": null,
       "display": null,
       "flex": null,
       "flex_flow": null,
       "grid_area": null,
       "grid_auto_columns": null,
       "grid_auto_flow": null,
       "grid_auto_rows": null,
       "grid_column": null,
       "grid_gap": null,
       "grid_row": null,
       "grid_template_areas": null,
       "grid_template_columns": null,
       "grid_template_rows": null,
       "height": null,
       "justify_content": null,
       "justify_items": null,
       "left": null,
       "margin": null,
       "max_height": null,
       "max_width": null,
       "min_height": null,
       "min_width": null,
       "object_fit": null,
       "object_position": null,
       "order": null,
       "overflow": null,
       "overflow_x": null,
       "overflow_y": null,
       "padding": null,
       "right": null,
       "top": null,
       "visibility": null,
       "width": null
      }
     },
     "6f3f70206c644aba9d7425db33fe9c2e": {
      "model_module": "@jupyter-widgets/base",
      "model_module_version": "1.2.0",
      "model_name": "LayoutModel",
      "state": {
       "_model_module": "@jupyter-widgets/base",
       "_model_module_version": "1.2.0",
       "_model_name": "LayoutModel",
       "_view_count": null,
       "_view_module": "@jupyter-widgets/base",
       "_view_module_version": "1.2.0",
       "_view_name": "LayoutView",
       "align_content": null,
       "align_items": null,
       "align_self": null,
       "border": null,
       "bottom": null,
       "display": null,
       "flex": null,
       "flex_flow": null,
       "grid_area": null,
       "grid_auto_columns": null,
       "grid_auto_flow": null,
       "grid_auto_rows": null,
       "grid_column": null,
       "grid_gap": null,
       "grid_row": null,
       "grid_template_areas": null,
       "grid_template_columns": null,
       "grid_template_rows": null,
       "height": null,
       "justify_content": null,
       "justify_items": null,
       "left": null,
       "margin": null,
       "max_height": null,
       "max_width": null,
       "min_height": null,
       "min_width": null,
       "object_fit": null,
       "object_position": null,
       "order": null,
       "overflow": null,
       "overflow_x": null,
       "overflow_y": null,
       "padding": null,
       "right": null,
       "top": null,
       "visibility": null,
       "width": null
      }
     },
     "83d4fc817df4449f85ea4a8825a84093": {
      "model_module": "@jupyter-widgets/controls",
      "model_module_version": "1.5.0",
      "model_name": "DescriptionStyleModel",
      "state": {
       "_model_module": "@jupyter-widgets/controls",
       "_model_module_version": "1.5.0",
       "_model_name": "DescriptionStyleModel",
       "_view_count": null,
       "_view_module": "@jupyter-widgets/base",
       "_view_module_version": "1.2.0",
       "_view_name": "StyleView",
       "description_width": ""
      }
     },
     "8d4df34d90cc4ef7b535f9f5548f20f6": {
      "model_module": "@jupyter-widgets/base",
      "model_module_version": "1.2.0",
      "model_name": "LayoutModel",
      "state": {
       "_model_module": "@jupyter-widgets/base",
       "_model_module_version": "1.2.0",
       "_model_name": "LayoutModel",
       "_view_count": null,
       "_view_module": "@jupyter-widgets/base",
       "_view_module_version": "1.2.0",
       "_view_name": "LayoutView",
       "align_content": null,
       "align_items": null,
       "align_self": null,
       "border": null,
       "bottom": null,
       "display": null,
       "flex": null,
       "flex_flow": null,
       "grid_area": null,
       "grid_auto_columns": null,
       "grid_auto_flow": null,
       "grid_auto_rows": null,
       "grid_column": null,
       "grid_gap": null,
       "grid_row": null,
       "grid_template_areas": null,
       "grid_template_columns": null,
       "grid_template_rows": null,
       "height": null,
       "justify_content": null,
       "justify_items": null,
       "left": null,
       "margin": null,
       "max_height": null,
       "max_width": null,
       "min_height": null,
       "min_width": null,
       "object_fit": null,
       "object_position": null,
       "order": null,
       "overflow": null,
       "overflow_x": null,
       "overflow_y": null,
       "padding": null,
       "right": null,
       "top": null,
       "visibility": null,
       "width": null
      }
     },
     "8f6b3df7989a4388afdb147ccde20d2a": {
      "model_module": "@jupyter-widgets/controls",
      "model_module_version": "1.5.0",
      "model_name": "DescriptionStyleModel",
      "state": {
       "_model_module": "@jupyter-widgets/controls",
       "_model_module_version": "1.5.0",
       "_model_name": "DescriptionStyleModel",
       "_view_count": null,
       "_view_module": "@jupyter-widgets/base",
       "_view_module_version": "1.2.0",
       "_view_name": "StyleView",
       "description_width": ""
      }
     },
     "8fb942e4529d465cab0b0854333311b8": {
      "model_module": "@jupyter-widgets/base",
      "model_module_version": "1.2.0",
      "model_name": "LayoutModel",
      "state": {
       "_model_module": "@jupyter-widgets/base",
       "_model_module_version": "1.2.0",
       "_model_name": "LayoutModel",
       "_view_count": null,
       "_view_module": "@jupyter-widgets/base",
       "_view_module_version": "1.2.0",
       "_view_name": "LayoutView",
       "align_content": null,
       "align_items": null,
       "align_self": null,
       "border": null,
       "bottom": null,
       "display": null,
       "flex": null,
       "flex_flow": null,
       "grid_area": null,
       "grid_auto_columns": null,
       "grid_auto_flow": null,
       "grid_auto_rows": null,
       "grid_column": null,
       "grid_gap": null,
       "grid_row": null,
       "grid_template_areas": null,
       "grid_template_columns": null,
       "grid_template_rows": null,
       "height": null,
       "justify_content": null,
       "justify_items": null,
       "left": null,
       "margin": null,
       "max_height": null,
       "max_width": null,
       "min_height": null,
       "min_width": null,
       "object_fit": null,
       "object_position": null,
       "order": null,
       "overflow": null,
       "overflow_x": null,
       "overflow_y": null,
       "padding": null,
       "right": null,
       "top": null,
       "visibility": null,
       "width": null
      }
     },
     "90f89aa4aeaa4ac28ee45ef7e6ad23ad": {
      "model_module": "@jupyter-widgets/base",
      "model_module_version": "1.2.0",
      "model_name": "LayoutModel",
      "state": {
       "_model_module": "@jupyter-widgets/base",
       "_model_module_version": "1.2.0",
       "_model_name": "LayoutModel",
       "_view_count": null,
       "_view_module": "@jupyter-widgets/base",
       "_view_module_version": "1.2.0",
       "_view_name": "LayoutView",
       "align_content": null,
       "align_items": null,
       "align_self": null,
       "border": null,
       "bottom": null,
       "display": null,
       "flex": null,
       "flex_flow": null,
       "grid_area": null,
       "grid_auto_columns": null,
       "grid_auto_flow": null,
       "grid_auto_rows": null,
       "grid_column": null,
       "grid_gap": null,
       "grid_row": null,
       "grid_template_areas": null,
       "grid_template_columns": null,
       "grid_template_rows": null,
       "height": null,
       "justify_content": null,
       "justify_items": null,
       "left": null,
       "margin": null,
       "max_height": null,
       "max_width": null,
       "min_height": null,
       "min_width": null,
       "object_fit": null,
       "object_position": null,
       "order": null,
       "overflow": null,
       "overflow_x": null,
       "overflow_y": null,
       "padding": null,
       "right": null,
       "top": null,
       "visibility": null,
       "width": null
      }
     },
     "950f64961a9648d9a8d0db2bb616cd86": {
      "model_module": "@jupyter-widgets/base",
      "model_module_version": "1.2.0",
      "model_name": "LayoutModel",
      "state": {
       "_model_module": "@jupyter-widgets/base",
       "_model_module_version": "1.2.0",
       "_model_name": "LayoutModel",
       "_view_count": null,
       "_view_module": "@jupyter-widgets/base",
       "_view_module_version": "1.2.0",
       "_view_name": "LayoutView",
       "align_content": null,
       "align_items": null,
       "align_self": null,
       "border": null,
       "bottom": null,
       "display": null,
       "flex": null,
       "flex_flow": null,
       "grid_area": null,
       "grid_auto_columns": null,
       "grid_auto_flow": null,
       "grid_auto_rows": null,
       "grid_column": null,
       "grid_gap": null,
       "grid_row": null,
       "grid_template_areas": null,
       "grid_template_columns": null,
       "grid_template_rows": null,
       "height": null,
       "justify_content": null,
       "justify_items": null,
       "left": null,
       "margin": null,
       "max_height": null,
       "max_width": null,
       "min_height": null,
       "min_width": null,
       "object_fit": null,
       "object_position": null,
       "order": null,
       "overflow": null,
       "overflow_x": null,
       "overflow_y": null,
       "padding": null,
       "right": null,
       "top": null,
       "visibility": null,
       "width": null
      }
     },
     "977323ee7c9645c992da7df2869db0df": {
      "model_module": "@jupyter-widgets/controls",
      "model_module_version": "1.5.0",
      "model_name": "DescriptionStyleModel",
      "state": {
       "_model_module": "@jupyter-widgets/controls",
       "_model_module_version": "1.5.0",
       "_model_name": "DescriptionStyleModel",
       "_view_count": null,
       "_view_module": "@jupyter-widgets/base",
       "_view_module_version": "1.2.0",
       "_view_name": "StyleView",
       "description_width": ""
      }
     },
     "97f60e35cc494bfaa24f670559ca1ccc": {
      "model_module": "@jupyter-widgets/controls",
      "model_module_version": "1.5.0",
      "model_name": "FloatProgressModel",
      "state": {
       "_dom_classes": [],
       "_model_module": "@jupyter-widgets/controls",
       "_model_module_version": "1.5.0",
       "_model_name": "FloatProgressModel",
       "_view_count": null,
       "_view_module": "@jupyter-widgets/controls",
       "_view_module_version": "1.5.0",
       "_view_name": "ProgressView",
       "bar_style": "success",
       "description": "",
       "description_tooltip": null,
       "layout": "IPY_MODEL_e95f62b752d8458bade624518396f575",
       "max": 1000.0,
       "min": 0.0,
       "orientation": "horizontal",
       "style": "IPY_MODEL_2d20604270e346e0b289c3b63958601e",
       "value": 1000.0
      }
     },
     "995ec06467c848309e5768991459428e": {
      "model_module": "@jupyter-widgets/controls",
      "model_module_version": "1.5.0",
      "model_name": "FloatProgressModel",
      "state": {
       "_dom_classes": [],
       "_model_module": "@jupyter-widgets/controls",
       "_model_module_version": "1.5.0",
       "_model_name": "FloatProgressModel",
       "_view_count": null,
       "_view_module": "@jupyter-widgets/controls",
       "_view_module_version": "1.5.0",
       "_view_name": "ProgressView",
       "bar_style": "success",
       "description": "",
       "description_tooltip": null,
       "layout": "IPY_MODEL_ffa51963a333410f8e73a6e862125767",
       "max": 1000.0,
       "min": 0.0,
       "orientation": "horizontal",
       "style": "IPY_MODEL_1fb58f3d547e4d66a66021b1a00b840f",
       "value": 1000.0
      }
     },
     "9ceda935b13e4129b897e943259116a7": {
      "model_module": "@jupyter-widgets/controls",
      "model_module_version": "1.5.0",
      "model_name": "HBoxModel",
      "state": {
       "_dom_classes": [],
       "_model_module": "@jupyter-widgets/controls",
       "_model_module_version": "1.5.0",
       "_model_name": "HBoxModel",
       "_view_count": null,
       "_view_module": "@jupyter-widgets/controls",
       "_view_module_version": "1.5.0",
       "_view_name": "HBoxView",
       "box_style": "",
       "children": [
        "IPY_MODEL_6a5b4fff5e634edd804d79046241ea3e",
        "IPY_MODEL_97f60e35cc494bfaa24f670559ca1ccc",
        "IPY_MODEL_4e0d3481fc9a4d1a844a8a50a5f58c27"
       ],
       "layout": "IPY_MODEL_950f64961a9648d9a8d0db2bb616cd86"
      }
     },
     "a2f0faccc8804642af1f61e6dd7dfe7a": {
      "model_module": "@jupyter-widgets/controls",
      "model_module_version": "1.5.0",
      "model_name": "HTMLModel",
      "state": {
       "_dom_classes": [],
       "_model_module": "@jupyter-widgets/controls",
       "_model_module_version": "1.5.0",
       "_model_name": "HTMLModel",
       "_view_count": null,
       "_view_module": "@jupyter-widgets/controls",
       "_view_module_version": "1.5.0",
       "_view_name": "HTMLView",
       "description": "",
       "description_tooltip": null,
       "layout": "IPY_MODEL_8fb942e4529d465cab0b0854333311b8",
       "placeholder": "​",
       "style": "IPY_MODEL_d6734b16ab664103b7c324168d5016fc",
       "value": " 1000/1000 [00:27&lt;00:00, 36.57it/s]"
      }
     },
     "b7124ff507e34ce09ac47978d1d77138": {
      "model_module": "@jupyter-widgets/controls",
      "model_module_version": "1.5.0",
      "model_name": "HBoxModel",
      "state": {
       "_dom_classes": [],
       "_model_module": "@jupyter-widgets/controls",
       "_model_module_version": "1.5.0",
       "_model_name": "HBoxModel",
       "_view_count": null,
       "_view_module": "@jupyter-widgets/controls",
       "_view_module_version": "1.5.0",
       "_view_name": "HBoxView",
       "box_style": "",
       "children": [
        "IPY_MODEL_6282170e2a3f48d98c78dc601da06dca",
        "IPY_MODEL_995ec06467c848309e5768991459428e",
        "IPY_MODEL_265862f4ffda426192a9bdea742b6ebc"
       ],
       "layout": "IPY_MODEL_c50545b2e2804f79bed8162c273aa3d1"
      }
     },
     "b8c5f3b30ec741b193704bd9603c3423": {
      "model_module": "@jupyter-widgets/controls",
      "model_module_version": "1.5.0",
      "model_name": "HTMLModel",
      "state": {
       "_dom_classes": [],
       "_model_module": "@jupyter-widgets/controls",
       "_model_module_version": "1.5.0",
       "_model_name": "HTMLModel",
       "_view_count": null,
       "_view_module": "@jupyter-widgets/controls",
       "_view_module_version": "1.5.0",
       "_view_name": "HTMLView",
       "description": "",
       "description_tooltip": null,
       "layout": "IPY_MODEL_6e652c510ed3478eab5e095cab6e4918",
       "placeholder": "​",
       "style": "IPY_MODEL_e6112ce87d714089a2ab9a2c3ad6c173",
       "value": "100%"
      }
     },
     "c50545b2e2804f79bed8162c273aa3d1": {
      "model_module": "@jupyter-widgets/base",
      "model_module_version": "1.2.0",
      "model_name": "LayoutModel",
      "state": {
       "_model_module": "@jupyter-widgets/base",
       "_model_module_version": "1.2.0",
       "_model_name": "LayoutModel",
       "_view_count": null,
       "_view_module": "@jupyter-widgets/base",
       "_view_module_version": "1.2.0",
       "_view_name": "LayoutView",
       "align_content": null,
       "align_items": null,
       "align_self": null,
       "border": null,
       "bottom": null,
       "display": null,
       "flex": null,
       "flex_flow": null,
       "grid_area": null,
       "grid_auto_columns": null,
       "grid_auto_flow": null,
       "grid_auto_rows": null,
       "grid_column": null,
       "grid_gap": null,
       "grid_row": null,
       "grid_template_areas": null,
       "grid_template_columns": null,
       "grid_template_rows": null,
       "height": null,
       "justify_content": null,
       "justify_items": null,
       "left": null,
       "margin": null,
       "max_height": null,
       "max_width": null,
       "min_height": null,
       "min_width": null,
       "object_fit": null,
       "object_position": null,
       "order": null,
       "overflow": null,
       "overflow_x": null,
       "overflow_y": null,
       "padding": null,
       "right": null,
       "top": null,
       "visibility": null,
       "width": null
      }
     },
     "ce199c3f4dda49a584e9ad563882a10c": {
      "model_module": "@jupyter-widgets/controls",
      "model_module_version": "1.5.0",
      "model_name": "ProgressStyleModel",
      "state": {
       "_model_module": "@jupyter-widgets/controls",
       "_model_module_version": "1.5.0",
       "_model_name": "ProgressStyleModel",
       "_view_count": null,
       "_view_module": "@jupyter-widgets/base",
       "_view_module_version": "1.2.0",
       "_view_name": "StyleView",
       "bar_color": null,
       "description_width": ""
      }
     },
     "d6734b16ab664103b7c324168d5016fc": {
      "model_module": "@jupyter-widgets/controls",
      "model_module_version": "1.5.0",
      "model_name": "DescriptionStyleModel",
      "state": {
       "_model_module": "@jupyter-widgets/controls",
       "_model_module_version": "1.5.0",
       "_model_name": "DescriptionStyleModel",
       "_view_count": null,
       "_view_module": "@jupyter-widgets/base",
       "_view_module_version": "1.2.0",
       "_view_name": "StyleView",
       "description_width": ""
      }
     },
     "d72172bfd7dc4207aedecce7ee99d4b2": {
      "model_module": "@jupyter-widgets/controls",
      "model_module_version": "1.5.0",
      "model_name": "DescriptionStyleModel",
      "state": {
       "_model_module": "@jupyter-widgets/controls",
       "_model_module_version": "1.5.0",
       "_model_name": "DescriptionStyleModel",
       "_view_count": null,
       "_view_module": "@jupyter-widgets/base",
       "_view_module_version": "1.2.0",
       "_view_name": "StyleView",
       "description_width": ""
      }
     },
     "de0fb3c0dc3946178fa491a5932f0b8a": {
      "model_module": "@jupyter-widgets/base",
      "model_module_version": "1.2.0",
      "model_name": "LayoutModel",
      "state": {
       "_model_module": "@jupyter-widgets/base",
       "_model_module_version": "1.2.0",
       "_model_name": "LayoutModel",
       "_view_count": null,
       "_view_module": "@jupyter-widgets/base",
       "_view_module_version": "1.2.0",
       "_view_name": "LayoutView",
       "align_content": null,
       "align_items": null,
       "align_self": null,
       "border": null,
       "bottom": null,
       "display": null,
       "flex": null,
       "flex_flow": null,
       "grid_area": null,
       "grid_auto_columns": null,
       "grid_auto_flow": null,
       "grid_auto_rows": null,
       "grid_column": null,
       "grid_gap": null,
       "grid_row": null,
       "grid_template_areas": null,
       "grid_template_columns": null,
       "grid_template_rows": null,
       "height": null,
       "justify_content": null,
       "justify_items": null,
       "left": null,
       "margin": null,
       "max_height": null,
       "max_width": null,
       "min_height": null,
       "min_width": null,
       "object_fit": null,
       "object_position": null,
       "order": null,
       "overflow": null,
       "overflow_x": null,
       "overflow_y": null,
       "padding": null,
       "right": null,
       "top": null,
       "visibility": null,
       "width": null
      }
     },
     "e6112ce87d714089a2ab9a2c3ad6c173": {
      "model_module": "@jupyter-widgets/controls",
      "model_module_version": "1.5.0",
      "model_name": "DescriptionStyleModel",
      "state": {
       "_model_module": "@jupyter-widgets/controls",
       "_model_module_version": "1.5.0",
       "_model_name": "DescriptionStyleModel",
       "_view_count": null,
       "_view_module": "@jupyter-widgets/base",
       "_view_module_version": "1.2.0",
       "_view_name": "StyleView",
       "description_width": ""
      }
     },
     "e84c95a405564ac89b201786caeb8de9": {
      "model_module": "@jupyter-widgets/base",
      "model_module_version": "1.2.0",
      "model_name": "LayoutModel",
      "state": {
       "_model_module": "@jupyter-widgets/base",
       "_model_module_version": "1.2.0",
       "_model_name": "LayoutModel",
       "_view_count": null,
       "_view_module": "@jupyter-widgets/base",
       "_view_module_version": "1.2.0",
       "_view_name": "LayoutView",
       "align_content": null,
       "align_items": null,
       "align_self": null,
       "border": null,
       "bottom": null,
       "display": null,
       "flex": null,
       "flex_flow": null,
       "grid_area": null,
       "grid_auto_columns": null,
       "grid_auto_flow": null,
       "grid_auto_rows": null,
       "grid_column": null,
       "grid_gap": null,
       "grid_row": null,
       "grid_template_areas": null,
       "grid_template_columns": null,
       "grid_template_rows": null,
       "height": null,
       "justify_content": null,
       "justify_items": null,
       "left": null,
       "margin": null,
       "max_height": null,
       "max_width": null,
       "min_height": null,
       "min_width": null,
       "object_fit": null,
       "object_position": null,
       "order": null,
       "overflow": null,
       "overflow_x": null,
       "overflow_y": null,
       "padding": null,
       "right": null,
       "top": null,
       "visibility": null,
       "width": null
      }
     },
     "e95f62b752d8458bade624518396f575": {
      "model_module": "@jupyter-widgets/base",
      "model_module_version": "1.2.0",
      "model_name": "LayoutModel",
      "state": {
       "_model_module": "@jupyter-widgets/base",
       "_model_module_version": "1.2.0",
       "_model_name": "LayoutModel",
       "_view_count": null,
       "_view_module": "@jupyter-widgets/base",
       "_view_module_version": "1.2.0",
       "_view_name": "LayoutView",
       "align_content": null,
       "align_items": null,
       "align_self": null,
       "border": null,
       "bottom": null,
       "display": null,
       "flex": null,
       "flex_flow": null,
       "grid_area": null,
       "grid_auto_columns": null,
       "grid_auto_flow": null,
       "grid_auto_rows": null,
       "grid_column": null,
       "grid_gap": null,
       "grid_row": null,
       "grid_template_areas": null,
       "grid_template_columns": null,
       "grid_template_rows": null,
       "height": null,
       "justify_content": null,
       "justify_items": null,
       "left": null,
       "margin": null,
       "max_height": null,
       "max_width": null,
       "min_height": null,
       "min_width": null,
       "object_fit": null,
       "object_position": null,
       "order": null,
       "overflow": null,
       "overflow_x": null,
       "overflow_y": null,
       "padding": null,
       "right": null,
       "top": null,
       "visibility": null,
       "width": null
      }
     },
     "ec81a378a4914a22aaf07827d0b4527e": {
      "model_module": "@jupyter-widgets/controls",
      "model_module_version": "1.5.0",
      "model_name": "HTMLModel",
      "state": {
       "_dom_classes": [],
       "_model_module": "@jupyter-widgets/controls",
       "_model_module_version": "1.5.0",
       "_model_name": "HTMLModel",
       "_view_count": null,
       "_view_module": "@jupyter-widgets/controls",
       "_view_module_version": "1.5.0",
       "_view_name": "HTMLView",
       "description": "",
       "description_tooltip": null,
       "layout": "IPY_MODEL_efbb19bf1cdf4052b944a6eaf6a650ec",
       "placeholder": "​",
       "style": "IPY_MODEL_977323ee7c9645c992da7df2869db0df",
       "value": "100%"
      }
     },
     "efbb19bf1cdf4052b944a6eaf6a650ec": {
      "model_module": "@jupyter-widgets/base",
      "model_module_version": "1.2.0",
      "model_name": "LayoutModel",
      "state": {
       "_model_module": "@jupyter-widgets/base",
       "_model_module_version": "1.2.0",
       "_model_name": "LayoutModel",
       "_view_count": null,
       "_view_module": "@jupyter-widgets/base",
       "_view_module_version": "1.2.0",
       "_view_name": "LayoutView",
       "align_content": null,
       "align_items": null,
       "align_self": null,
       "border": null,
       "bottom": null,
       "display": null,
       "flex": null,
       "flex_flow": null,
       "grid_area": null,
       "grid_auto_columns": null,
       "grid_auto_flow": null,
       "grid_auto_rows": null,
       "grid_column": null,
       "grid_gap": null,
       "grid_row": null,
       "grid_template_areas": null,
       "grid_template_columns": null,
       "grid_template_rows": null,
       "height": null,
       "justify_content": null,
       "justify_items": null,
       "left": null,
       "margin": null,
       "max_height": null,
       "max_width": null,
       "min_height": null,
       "min_width": null,
       "object_fit": null,
       "object_position": null,
       "order": null,
       "overflow": null,
       "overflow_x": null,
       "overflow_y": null,
       "padding": null,
       "right": null,
       "top": null,
       "visibility": null,
       "width": null
      }
     },
     "f7c26e9462a44300a2bc60681adb621d": {
      "model_module": "@jupyter-widgets/controls",
      "model_module_version": "1.5.0",
      "model_name": "FloatProgressModel",
      "state": {
       "_dom_classes": [],
       "_model_module": "@jupyter-widgets/controls",
       "_model_module_version": "1.5.0",
       "_model_name": "FloatProgressModel",
       "_view_count": null,
       "_view_module": "@jupyter-widgets/controls",
       "_view_module_version": "1.5.0",
       "_view_name": "ProgressView",
       "bar_style": "success",
       "description": "",
       "description_tooltip": null,
       "layout": "IPY_MODEL_90f89aa4aeaa4ac28ee45ef7e6ad23ad",
       "max": 1000.0,
       "min": 0.0,
       "orientation": "horizontal",
       "style": "IPY_MODEL_ce199c3f4dda49a584e9ad563882a10c",
       "value": 1000.0
      }
     },
     "fbf0db25905649bc8538ee6b29df7242": {
      "model_module": "@jupyter-widgets/controls",
      "model_module_version": "1.5.0",
      "model_name": "HBoxModel",
      "state": {
       "_dom_classes": [],
       "_model_module": "@jupyter-widgets/controls",
       "_model_module_version": "1.5.0",
       "_model_name": "HBoxModel",
       "_view_count": null,
       "_view_module": "@jupyter-widgets/controls",
       "_view_module_version": "1.5.0",
       "_view_name": "HBoxView",
       "box_style": "",
       "children": [
        "IPY_MODEL_b8c5f3b30ec741b193704bd9603c3423",
        "IPY_MODEL_f7c26e9462a44300a2bc60681adb621d",
        "IPY_MODEL_a2f0faccc8804642af1f61e6dd7dfe7a"
       ],
       "layout": "IPY_MODEL_de0fb3c0dc3946178fa491a5932f0b8a"
      }
     },
     "ffa51963a333410f8e73a6e862125767": {
      "model_module": "@jupyter-widgets/base",
      "model_module_version": "1.2.0",
      "model_name": "LayoutModel",
      "state": {
       "_model_module": "@jupyter-widgets/base",
       "_model_module_version": "1.2.0",
       "_model_name": "LayoutModel",
       "_view_count": null,
       "_view_module": "@jupyter-widgets/base",
       "_view_module_version": "1.2.0",
       "_view_name": "LayoutView",
       "align_content": null,
       "align_items": null,
       "align_self": null,
       "border": null,
       "bottom": null,
       "display": null,
       "flex": null,
       "flex_flow": null,
       "grid_area": null,
       "grid_auto_columns": null,
       "grid_auto_flow": null,
       "grid_auto_rows": null,
       "grid_column": null,
       "grid_gap": null,
       "grid_row": null,
       "grid_template_areas": null,
       "grid_template_columns": null,
       "grid_template_rows": null,
       "height": null,
       "justify_content": null,
       "justify_items": null,
       "left": null,
       "margin": null,
       "max_height": null,
       "max_width": null,
       "min_height": null,
       "min_width": null,
       "object_fit": null,
       "object_position": null,
       "order": null,
       "overflow": null,
       "overflow_x": null,
       "overflow_y": null,
       "padding": null,
       "right": null,
       "top": null,
       "visibility": null,
       "width": null
      }
     }
    },
    "version_major": 2,
    "version_minor": 0
   }
  }
 },
 "nbformat": 4,
 "nbformat_minor": 5
}
