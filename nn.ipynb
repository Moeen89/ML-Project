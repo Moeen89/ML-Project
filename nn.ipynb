{
  "cells": [
    {
      "cell_type": "markdown",
      "metadata": {
        "id": "2cdmyHksS6j7"
      },
      "source": [
        "### Full Name :moein samadi azad\n",
        "### Student Number :400105093\n",
        "___"
      ]
    },
    {
      "cell_type": "markdown",
      "metadata": {
        "id": "FnejUQ0nS6j8"
      },
      "source": [
        "# Problem\n",
        "In this project our goal is to develop a framework for simple neural network and multi layer perceptron. We are going to use only `numpy` and no other packages to build our own classes and network."
      ]
    },
    {
      "cell_type": "markdown",
      "metadata": {
        "id": "SGuBQRToS6j8"
      },
      "source": [
        "# Setup"
      ]
    },
    {
      "cell_type": "code",
      "execution_count": 28,
      "metadata": {
        "id": "D_a46D-Gz3Rj"
      },
      "outputs": [],
      "source": [
        "###################################\n",
        "#  Do Not Add any other packages  #\n",
        "###################################\n",
        "\n",
        "import numpy as np\n",
        "import seaborn as sn\n",
        "import matplotlib.pyplot as plt\n",
        "import tqdm\n",
        "import copy\n",
        "from abc import ABC, abstractmethod\n",
        "from sklearn.datasets import fetch_openml # just for downloading the dataset (MNIST)\n",
        "\n",
        "plt.style.use('ggplot')"
      ]
    },
    {
      "cell_type": "markdown",
      "metadata": {
        "id": "Q81QcH9YS6j9"
      },
      "source": [
        "# Section 1: Modules implementation (65 Points)\n",
        "We are going to implement the required modules for a neural network. Each of these modules must implement the necessary functions, `_forward` and `backward`. In the following parts, we will implement the `LinearLayer`, `ReLU`, `batchnorm`, `dropout`, and `SoftMax` layers."
      ]
    },
    {
      "cell_type": "markdown",
      "metadata": {
        "id": "av6ZtTQFS6j9"
      },
      "source": [
        "## Layers"
      ]
    },
    {
      "cell_type": "code",
      "execution_count": 29,
      "metadata": {
        "id": "nqh0jKU4TofC"
      },
      "outputs": [],
      "source": [
        "###################################\n",
        "#     Do Not change this cell     #\n",
        "###################################\n",
        "\n",
        "class Module(ABC):\n",
        "    def __call__(self, *args):\n",
        "        return self._forward(*args)\n",
        "\n",
        "    @abstractmethod\n",
        "    def _forward(self, *args):\n",
        "        pass\n",
        "        \n",
        "\n",
        "def rel_error(x, y):\n",
        "    return np.max(np.abs(x - y) / (np.maximum(1e-8, np.abs(x) + np.abs(y))))"
      ]
    },
    {
      "cell_type": "markdown",
      "metadata": {
        "id": "5w4gw0iTS6j9"
      },
      "source": [
        "#### Linear Layer (5 Points)"
      ]
    },
    {
      "cell_type": "markdown",
      "metadata": {
        "id": "Y_JnFHPpQo5H"
      },
      "source": [
        "The `LinearLayer` class represents a linear (fully connected) layer in a neural network. This layer computes the linear transformation of the input data as Wx + b, where W is the weight matrix, x is the input data, and b is the bias vector."
      ]
    },
    {
      "cell_type": "code",
      "execution_count": 30,
      "metadata": {
        "id": "moGEgpV999cl"
      },
      "outputs": [],
      "source": [
        "class LinearLayer(Module):\n",
        "    \"\"\"\n",
        "    A linear layer module that calculates (Wx + b).\n",
        "    \"\"\"\n",
        "\n",
        "    def __init__(self, dim_in, dim_out, initializer, reg, alpha):\n",
        "        \"\"\"\n",
        "        Args:\n",
        "            - dim_in: input dimension,\n",
        "            - dim_out: output dimension,\n",
        "            - initializer: a function that takes (dim_in, dim_out) and initialize a [dim_in x dim_out] matrix,\n",
        "            - reg: L2-regularization flag\n",
        "            - alpha: L2-regularization coefficient\n",
        "        \"\"\"\n",
        "        self.dim_in = dim_in\n",
        "        self.dim_out = dim_out\n",
        "        self.params = {\n",
        "            'W': initializer(dim_in, dim_out),\n",
        "            'b': np.zeros(dim_out),\n",
        "            'reg': alpha if reg else 0,\n",
        "        }\n",
        "        self.grads = dict()\n",
        "        self.cache = dict()\n",
        "\n",
        "    def _forward(self, x, mode='train'):\n",
        "        \"\"\"\n",
        "        linear forward function, calculates Wx+b for a batch of data\n",
        "\n",
        "        Args:\n",
        "            x : a batch of data\n",
        "            mode: the step of training which can be train, valid and test\n",
        "\n",
        "        Note:\n",
        "            you need to store some values in cache to be able to\n",
        "            calculate backward path.\n",
        "        \"\"\"\n",
        "        #####################################################\n",
        "        ##        Forward function for linear layer        ##\n",
        "        ####################[Your Code]###################### \n",
        "        out = x @ self.params[\"W\"] + self.params[\"b\"]\n",
        "        self.cache[\"x\"] = x\n",
        "\n",
        "        return out\n",
        "\n",
        "    def backward(self, upstream):\n",
        "        \"\"\"\n",
        "        gets upstream gradient and returns downstream gradient\n",
        "\n",
        "        Args:\n",
        "            upstream : upstream gradient of loss w.r.t module output\n",
        "\n",
        "        Note:\n",
        "            you need to calculate gradient of loss w.r.t module input\n",
        "            and parameters and store them in grads (don't return anything).\n",
        "        \"\"\"\n",
        "        #####################################################\n",
        "        ##        Backward function for linear layer       ##\n",
        "        ####################[Your Code]######################\n",
        "        W = self.params[\"W\"]\n",
        "        x = self.cache[\"x\"]\n",
        "        \n",
        "        self.grads[\"x\"] = upstream @ W.T \n",
        "        self.grads[\"W\"] = x.T @ upstream\n",
        "        self.grads[\"reg\"] = 2 * self.params['reg'] * W\n",
        "        self.grads[\"b\"] = upstream.sum(axis=0)"
      ]
    },
    {
      "cell_type": "code",
      "execution_count": 31,
      "metadata": {
        "id": "G77b71yOTxvA"
      },
      "outputs": [
        {
          "name": "stdout",
          "output_type": "stream",
          "text": [
            "Relative error of delta-loss (for linear unit):\n",
            "1.064447248348604e-05\n",
            "Relative error of delta-loss (for regularization):\n",
            "9.417674890879862e-06\n"
          ]
        }
      ],
      "source": [
        "###################################\n",
        "#     Do not change this cell     #\n",
        "#   output must be from o(e-5)    #\n",
        "###################################\n",
        "\n",
        "def check_gradient_linear(linear, h=0.00001):\n",
        "    np.random.seed(121212)\n",
        "    x = np.random.normal(size=(20, linear.dim_in))\n",
        "    upstream = np.random.random(size=(20, linear.dim_out))\n",
        "\n",
        "    new_x = x + h\n",
        "    new_w = linear.params['W'] + h\n",
        "    new_b = linear.params['b'] + h\n",
        "    new_linear = copy.deepcopy(linear)\n",
        "    new_linear.params['W'] = new_w\n",
        "    new_linear.params['b'] = new_b\n",
        "    new_val = new_linear(new_x)\n",
        "    old_val = linear(x)\n",
        "    delta_output = new_val - old_val\n",
        "    delta_loss_indirect = np.sum(delta_output * upstream)\n",
        "\n",
        "    linear.backward(upstream)\n",
        "    delta_loss_direct = np.sum(h * linear.grads['x'])\n",
        "    delta_loss_direct += np.sum(h * linear.grads['W'])\n",
        "    delta_loss_direct += np.sum(h * linear.grads['b'])\n",
        "\n",
        "    print(f'Relative error of delta-loss (for linear unit):\\n{rel_error(delta_loss_indirect, delta_loss_direct)}')\n",
        "\n",
        "    old_val = np.sum(np.power(linear.params['W'], 2))\n",
        "    new_val = np.sum(np.power(new_w, 2))\n",
        "    indirect_loss = new_val - old_val\n",
        "    direct_loss = np.sum(h * linear.grads['reg'])\n",
        "    print(f'Relative error of delta-loss (for regularization):\\n{rel_error(indirect_loss, direct_loss)}')\n",
        "\n",
        "def initializer(x, y): return np.random.normal(size=(x, y))\n",
        "\n",
        "linear = LinearLayer(5, 10, initializer, reg=True, alpha=1)\n",
        "check_gradient_linear(linear, h=0.00001)"
      ]
    },
    {
      "cell_type": "markdown",
      "metadata": {
        "id": "xUJ781r6S6j_"
      },
      "source": [
        "#### ReLU Layer (5 Points)"
      ]
    },
    {
      "cell_type": "markdown",
      "metadata": {
        "id": "5QxT-LT0ROHq"
      },
      "source": [
        "The `ReLU` class represents a Rectified Linear Unit (ReLU) activation function, which is commonly used in neural networks to introduce non-linearity. This method applies the ReLU activation function to the input data x. The ReLU function is defined as ReLU(x) = max(0, x) meaning that it outputs the input directly if it is positive, otherwise it outputs zero."
      ]
    },
    {
      "cell_type": "code",
      "execution_count": 32,
      "metadata": {
        "id": "RSsLumM29_eT"
      },
      "outputs": [],
      "source": [
        "class ReLU(Module):\n",
        "    \"\"\"\n",
        "    Rectified Linear Unit function\n",
        "    \"\"\"\n",
        "\n",
        "    def __init__(self):\n",
        "        self.cache = dict()\n",
        "        self.grads = dict()\n",
        "\n",
        "    def _forward(self, x, mode='train'):\n",
        "        \"\"\"\n",
        "        applies relu function on x\n",
        "\n",
        "        Args:\n",
        "            x : a batch of data\n",
        "            mode: the step of training which can be train, valid and test\n",
        "\n",
        "        Returns:\n",
        "            y : relu of input\n",
        "        \"\"\"\n",
        "        #####################################################\n",
        "        ##         Forward function for ReLU layer         ##\n",
        "        ####################[Your Code]######################\n",
        "        y = np.maximum(0, x)\n",
        "        self.cache['x'] = x\n",
        "        return y\n",
        "    \n",
        "\n",
        "        \n",
        "\n",
        "    def backward(self, upstream):\n",
        "        \"\"\"\n",
        "        calculate and store gradient of loss w.r.t module input\n",
        "\n",
        "        Args:\n",
        "            upstream : gradient of loss w.r.t modele output\n",
        "\n",
        "        Note:\n",
        "            you need to calculate gradient of loss w.r.t module input\n",
        "            and parameters and store them in grads (don't return anything).\n",
        "        \"\"\"\n",
        "        #####################################################\n",
        "        ##         Backward function for ReLU layer        ##\n",
        "        ####################[Your Code]######################\n",
        "        x = self.cache['x']\n",
        "        self.grads['x'] = (x > 0) * upstream\n",
        "        return self.grads['x']\n",
        "    "
      ]
    },
    {
      "cell_type": "code",
      "execution_count": 33,
      "metadata": {
        "id": "1tUjGXccU4FC"
      },
      "outputs": [
        {
          "name": "stdout",
          "output_type": "stream",
          "text": [
            "Relative error of delta-loss:\n",
            "2.484727903125079e-14\n"
          ]
        }
      ],
      "source": [
        "###################################\n",
        "#     Do not change this cell     #\n",
        "#   output must be from o(e-8)    #\n",
        "###################################\n",
        "\n",
        "def check_gradient_relu(rl, h=0.0001):\n",
        "    np.random.seed(11111)\n",
        "    x = np.random.normal(size=(10, 5))\n",
        "    upstream = np.random.random(size=(10, 5))\n",
        "\n",
        "    new_x = x + h\n",
        "    new_val = rl(new_x)\n",
        "    old_val = rl(x)\n",
        "    delta_output = new_val - old_val\n",
        "    delta_loss_indirect = np.sum(delta_output * upstream)\n",
        "\n",
        "    rl.backward(upstream)\n",
        "    delta_loss_direct = np.sum(h * rl.grads['x'])\n",
        "\n",
        "    print(f'Relative error of delta-loss:\\n{rel_error(delta_loss_indirect, delta_loss_direct)}')\n",
        "\n",
        "relu = ReLU()\n",
        "check_gradient_relu(relu)"
      ]
    },
    {
      "cell_type": "markdown",
      "metadata": {
        "id": "vNHxH2KFS6kA"
      },
      "source": [
        "#### SoftMax Layer (10 Points)\n",
        "\n",
        "We could have a layer that calculates softmax for us. In other word, for input $x\\in\\mathcal{R}^N$ it would return $y\\in\\mathcal{R}^n$ where $y_i = \\frac{e^{x_i}}{\\sum e^{x_i}}$. But this method is not numerical stable because $e^{x_i}$ in this formulation can get very large easly and return `nan`. Instead of that we will implement a logarithmic version of softmax which instead of calculating $\\frac{e^{x_i}}{\\sum e^{x_i}}$, will calculate $\\log\\left(\\frac{e^{x_i}}{\\sum e^{x_i}}\\right) = x_i - \\log\\sum e^{x_i}$. In order to calculate second term you can use `np.logaddexp` but this function only works on two inputs. For more than two inputs, fill in the following function to be able to calculate log sum exp of an array of shape (b,n). `axis=1` means sum over columns and `axis=0` sum over rows."
      ]
    },
    {
      "cell_type": "code",
      "execution_count": 34,
      "metadata": {
        "id": "6kBopBY9S6kA"
      },
      "outputs": [],
      "source": [
        "import numpy as np\n",
        "\n",
        "def logsumexp(array, axis=1):\n",
        "    \"\"\"\n",
        "    Calculate log(sum(exp(array))) using np.logaddexp to ensure numerical stability.\n",
        "\n",
        "    Args:\n",
        "        array : input array\n",
        "        axis : reduce axis, 1 means columns and 0 means rows\n",
        "    \"\"\"\n",
        "    # Get the maximum value along the specified axis to improve numerical stability\n",
        "    max_val = np.max(array, axis=axis, keepdims=True)\n",
        "\n",
        "    # Subtract the maximum value to prevent exponential overflow\n",
        "    stable_array = array - max_val\n",
        "\n",
        "    # Exponentiate the stabilized array\n",
        "    exp_array = np.exp(stable_array)\n",
        "\n",
        "    # Sum the exponentiated values along the specified axis\n",
        "    sum_exp = np.sum(exp_array, axis=axis, keepdims=True)\n",
        "\n",
        "    # Compute log of sum of exponentials and then add back the max value used for stabilization\n",
        "    result = np.log(sum_exp) + max_val\n",
        "\n",
        "    # Remove the extra dimension added by keepdims if necessary\n",
        "    if not np.isscalar(result):\n",
        "        result = np.squeeze(result, axis=axis)\n",
        "\n",
        "    return result\n"
      ]
    },
    {
      "cell_type": "code",
      "execution_count": 35,
      "metadata": {
        "id": "R4v5_UBB-BCK"
      },
      "outputs": [],
      "source": [
        "class LogSoftMax(Module):\n",
        "    def __init__(self):\n",
        "        self.cache = dict()\n",
        "        self.grads = dict()\n",
        "\n",
        "    def _forward(self, x, mode='train'):\n",
        "        \"\"\"\n",
        "        get x and calculate softmax of that.\n",
        "\n",
        "        Args:\n",
        "            x : batch of data with shape (b,m)\n",
        "            mode: the step of training which can be train, valid and test\n",
        "\n",
        "        Returns:\n",
        "            y : log softmax of x with shape (b,m)\n",
        "        \"\"\"\n",
        "        #####################################################\n",
        "        ##      Forward function for LogSoftMax layer      ##\n",
        "        ####################[Your Code]######################\n",
        "        max_x = np.max(x, axis=1, keepdims=True)\n",
        "        stabilized_x = x - max_x\n",
        "        sum_exp = np.sum(np.exp(stabilized_x), axis=1, keepdims=True)\n",
        "        log_sum_exp = np.log(sum_exp)\n",
        "        log_softmax = stabilized_x - log_sum_exp\n",
        "\n",
        "        if mode == 'train':\n",
        "            self.cache['x'] = x\n",
        "            self.cache['log_softmax'] = log_softmax\n",
        "\n",
        "        return log_softmax\n",
        "\n",
        "        \n",
        "\n",
        "    def backward(self, upstream):\n",
        "        \"\"\"\n",
        "        calculate gradient of loss w.r.t module input and save that in grads.\n",
        "\n",
        "        Args:\n",
        "            upstream : gradient of loss w.r.t module output with sahpe (b,m)\n",
        "\n",
        "        Note:\n",
        "            you need to calculate gradient of loss w.r.t module input\n",
        "            and parameters and store them in grads (don't return anything).\n",
        "        \"\"\"\n",
        "        #####################################################\n",
        "        ##     Backward function for LogSoftMax layer      ##\n",
        "        ####################[Your Code]######################\n",
        "        x = self.cache['x']\n",
        "        log_softmax = self.cache['log_softmax']\n",
        "        softmax = np.exp(log_softmax)\n",
        "\n",
        "        # Gradient of the log softmax\n",
        "        dx = softmax * (upstream - np.sum(upstream * softmax, axis=1, keepdims=True))\n",
        "\n",
        "        self.grads['x'] = dx\n",
        "\n",
        "        return dx\n",
        "    "
      ]
    },
    {
      "cell_type": "code",
      "execution_count": 36,
      "metadata": {
        "id": "YDqarqd9VDAY"
      },
      "outputs": [
        {
          "name": "stdout",
          "output_type": "stream",
          "text": [
            "Relative error of delta-loss:\n",
            "1.3446648037662018e-12\n"
          ]
        }
      ],
      "source": [
        "###################################\n",
        "#     Do not change this cell     #\n",
        "#   output must be from o(e-7)    #\n",
        "###################################\n",
        "\n",
        "def check_gradient_softmax(sm, h=0.0001):\n",
        "    np.random.seed(321321)\n",
        "    x = np.random.random(size=(10, 5))\n",
        "    upstream = np.random.random(size=(10, 5))\n",
        "\n",
        "    new_x = x + h\n",
        "    new_val = sm(new_x)\n",
        "    old_val = sm(x)\n",
        "    delta_output = new_val - old_val\n",
        "    delta_loss_indirect = np.sum(delta_output * upstream)\n",
        "\n",
        "    sm.backward(upstream)\n",
        "    delta_loss_direct = np.sum(h * sm.grads['x'])\n",
        "\n",
        "    print(f'Relative error of delta-loss:\\n{rel_error(delta_loss_indirect, delta_loss_direct)}')\n",
        "\n",
        "sm = LogSoftMax()\n",
        "check_gradient_softmax(sm)"
      ]
    },
    {
      "cell_type": "markdown",
      "metadata": {
        "id": "QmRUDR2Dx8WP"
      },
      "source": [
        "#### BatchNorm Layer (10 Points)"
      ]
    },
    {
      "cell_type": "markdown",
      "metadata": {
        "id": "piMwBR-BSH7y"
      },
      "source": [
        "The `BatchNorm` class represents a batch normalization layer, which normalizes the inputs of each mini-batch to have zero mean and unit variance, and then scales and shifts them using learned parameters.\n",
        "<br>\n",
        "In `train` mode, this method:\n",
        "<br>\n",
        "Computes the mean and variance of the current batch. Normalizes the input batch using the batch statistics. Scales and shifts the normalized batch using the `gamma` and `beta` parameters. Updates the running mean and variance using the computed batch statistics.\n",
        "<br>\n",
        "In `valid` or `test` mode, this method:\n",
        "<br>\n",
        "Normalizes the input batch using the running mean and variance. Scales and shifts the normalized batch using the `gamma` and `beta` parameters."
      ]
    },
    {
      "cell_type": "code",
      "execution_count": 37,
      "metadata": {
        "id": "nLsDd940S6kA"
      },
      "outputs": [],
      "source": [
        "class BatchNorm(Module):\n",
        "    def __init__(self, dim_in, momentum=0.99, eps=1e-3):\n",
        "        \"\"\"\n",
        "        Batch normalization layer for neural networks.\n",
        "        Args:\n",
        "            dim_in: Input dimension.\n",
        "            momentum: Momentum for moving average of mean and variance.\n",
        "            eps: Small constant to prevent division by zero.\n",
        "        \"\"\"\n",
        "        self.cache = dict()\n",
        "        self.grads = dict()\n",
        "        self.momentum = momentum\n",
        "        self.eps = eps\n",
        "        self.dim_in = dim_in\n",
        "        self.params = {\n",
        "            'gamma': np.ones(dim_in),\n",
        "            'beta': np.zeros(dim_in),\n",
        "            'running_mean': np.zeros(dim_in),\n",
        "            'running_var': np.zeros(dim_in),\n",
        "        }\n",
        "\n",
        "    def _forward(self, x, mode='train'):\n",
        "        \"\"\"\n",
        "        gets x and calculates batchnorm of that.\n",
        "\n",
        "        Args:\n",
        "            x : batch of data with shape (b,m)\n",
        "            mode: the step of training which can be train, valid and test\n",
        "\n",
        "        Returns:\n",
        "            y : log batchnorm of x with shape (b,m)\n",
        "        \"\"\"\n",
        "        #####################################################\n",
        "        ##      Forward function for Batchnorm layer       ##\n",
        "        ####################[Your Code]######################\n",
        "        if mode == 'train':\n",
        "            self.params['running_mean'] = self.momentum * self.params['running_mean'] + (1 - self.momentum) * np.mean(x, axis=0)\n",
        "            self.params['running_var'] = self.momentum * self.params['running_var'] + (1 - self.momentum) * np.var(x, axis=0)\n",
        "            normalized = (x - np.mean(x, axis=0)) / np.sqrt(np.var(x, axis=0) + self.eps)\n",
        "            self.cache['x'] = x\n",
        "            self.cache['x_normalized'] = normalized\n",
        "            self.cache['batch_mean'] = np.mean(x, axis=0)\n",
        "            self.cache['batch_var'] = np.var(x, axis=0)\n",
        "            return self.params['gamma'] * normalized + self.params['beta']\n",
        "\n",
        "        normalized = (x - self.params['running_mean']) / np.sqrt(self.params['running_var'] + self.eps)\n",
        "        return self.params['gamma'] * normalized + self.params['beta']\n",
        "        \n",
        "    def backward(self, upstream):\n",
        "        \"\"\"\n",
        "        calculates gradient of loss w.r.t module input and save that in grads.\n",
        "\n",
        "        Args:\n",
        "            upstream : gradient of loss w.r.t module output with shape (b,m)\n",
        "\n",
        "        Note:\n",
        "            you need to calculate gradient of loss w.r.t module input\n",
        "            and parameters and store them in grads (don't return anything).\n",
        "        \"\"\"\n",
        "        #####################################################\n",
        "        ##      Backward function for Batchnorm layer      ##\n",
        "        ####################[Your Code]######################\n",
        "        x_normalized = self.cache['x_normalized']\n",
        "        batch_mean = self.cache['batch_mean']\n",
        "        batch_var = self.cache['batch_var']\n",
        "\n",
        "\n",
        "        gamma = self.params['gamma']\n",
        "        beta = self.params['beta']\n",
        "\n",
        "        self.grads['beta'] = np.sum(upstream, axis=0)\n",
        "        self.grads['gamma'] = np.sum(upstream * x_normalized, axis=0)\n",
        "\n",
        "        dx_normalized = upstream * gamma\n",
        "        \n",
        "        dvar = np.sum(dx_normalized * (self.cache['x'] - batch_mean) * -0.5 * (batch_var + self.eps) ** -1.5, axis=0)\n",
        "        dmean = np.sum(dx_normalized * -1 / np.sqrt(batch_var + self.eps), axis=0) + dvar * np.mean(-2 * (self.cache['x'] - batch_mean), axis=0)\n",
        "        self.grads['x'] = dx_normalized / np.sqrt(batch_var + self.eps) + dvar * 2 * (self.cache['x'] - batch_mean) / ((self.cache['x']).shape[0]) + dmean / ((self.cache['x']).shape[0])"
      ]
    },
    {
      "cell_type": "markdown",
      "metadata": {
        "id": "h77q5VHjx_VP"
      },
      "source": [
        "#### Dropout Layer (5 Points)"
      ]
    },
    {
      "cell_type": "markdown",
      "metadata": {
        "id": "hbSjVP2OS3hT"
      },
      "source": [
        "The `Dropout` class represents a dropout layer, which randomly sets a fraction of input units to zero during training to prevent overfitting.\n",
        "<br>\n",
        "In `train` mode, this method:\n",
        "<br>\n",
        "Randomly sets a fraction of input units to zero with probability `prob`.\n",
        "<br>\n",
        "In `valid` or `test` mode, this method:\n",
        "<br>\n",
        "Returns the input data unchanged."
      ]
    },
    {
      "cell_type": "code",
      "execution_count": 38,
      "metadata": {
        "id": "GwxxHZTkS6kB"
      },
      "outputs": [],
      "source": [
        "class Dropout(Module):\n",
        "    def __init__(self, prob=0.5):\n",
        "        \"\"\"\n",
        "        Dropout layer for neural networks.\n",
        "\n",
        "        Args:\n",
        "            prob: Probability of dropping out a neuron.\n",
        "        \"\"\"\n",
        "        self.cache = dict()\n",
        "        self.grads = dict()\n",
        "        self.prob = prob\n",
        "\n",
        "    def _forward(self, x, mode='train'):\n",
        "        \"\"\"\n",
        "        gets x and calculates dropout of that.\n",
        "\n",
        "        Args:\n",
        "            x : batch of data with shape (b,m)\n",
        "            mode: the step of training which can be train, valid and test\n",
        "\n",
        "        Returns:\n",
        "            y : dropout of x with shape (b,m)\n",
        "        \"\"\"\n",
        "        #####################################################\n",
        "        ##       Forward function for Dropout layer        ##\n",
        "        ####################[Your Code]######################\n",
        "            # In order to maintain the expected value, the mask should be divided by 1 - self.prob; however, it will still work fine without it\n",
        "        mask = np.random.rand(*x.shape) >= self.prob\n",
        "        out = x * mask\n",
        "        self.cache['mask'] = mask\n",
        "            \n",
        "        return out\n",
        "\n",
        "    def backward(self, upstream):\n",
        "        \"\"\"\n",
        "        calculates gradient of loss w.r.t module input and save that in grads.\n",
        "\n",
        "        Args:\n",
        "            upstream : gradient of loss w.r.t module output with shape (b,m)\n",
        "\n",
        "        Note:\n",
        "            you need to calculate gradient of loss w.r.t module input\n",
        "            and parameters and store them in grads (don't return anything).\n",
        "        \"\"\"\n",
        "        #####################################################\n",
        "        ##       Backward function for Dropout layer       ##\n",
        "        ####################[Your Code]######################\n",
        "        \n",
        "        mask = self.cache['mask']\n",
        "        self.grads['x'] = upstream * mask"
      ]
    },
    {
      "cell_type": "markdown",
      "metadata": {
        "id": "s4a58HpGS6kB"
      },
      "source": [
        "## Model (5 Points)\n",
        "We need a model class which gathers our layers togather and performs forward and backward on all of them."
      ]
    },
    {
      "cell_type": "code",
      "execution_count": 39,
      "metadata": {
        "id": "d8Bi_eXkS6kB"
      },
      "outputs": [],
      "source": [
        "class MLPModel(Module):\n",
        "    \"\"\"\n",
        "    A multilayer neural network model\n",
        "    \"\"\"\n",
        "\n",
        "    def __init__(self, layers):\n",
        "        \"\"\"\n",
        "        Args:\n",
        "            layers : list of model layers\n",
        "        \"\"\"\n",
        "        self.layers = layers\n",
        "\n",
        "    def _forward(self, x, mode='train'):\n",
        "        \"\"\"\n",
        "        Performs forward on x\n",
        "\n",
        "        Args:\n",
        "            x : a batch of data\n",
        "            mode: the step of training which can be train, valid and test\n",
        "\n",
        "        Returns:\n",
        "            o : model output\n",
        "        \"\"\"\n",
        "        #####################################################\n",
        "        ##                  Forward on x                   ##\n",
        "        ####################[Your Code]######################\n",
        "        \n",
        "        for layer in self.layers:\n",
        "            x = layer._forward(x, mode)\n",
        "        return x\n",
        "\n",
        "    def backward(self, upstream):\n",
        "        \"\"\"\n",
        "        Perform backward path on whole model\n",
        "\n",
        "        Args:\n",
        "            upstream : gradient of loss w.r.t model output\n",
        "        \"\"\"\n",
        "        #####################################################\n",
        "        ##                  Backward on x                  ##\n",
        "        ####################[Your Code]######################\n",
        "\n",
        "        for layer in reversed(self.layers):\n",
        "            layer.backward(upstream)\n",
        "            upstream = layer.grads[\"x\"]\n",
        "\n",
        "    def get_parameters(self):\n",
        "        \"\"\"\n",
        "        Returns:\n",
        "            parametric_layers : all layers of model which have parameter (you need it for optimizer input)\n",
        "        \"\"\"\n",
        "        #####################################################\n",
        "        ##         Find parameters of all layers           ##\n",
        "        ####################[Your Code]######################\n",
        "\n",
        "        parametric_layers = []\n",
        "        \n",
        "        for layer in self.layers:\n",
        "            if hasattr(layer, 'params'):\n",
        "                parametric_layers.append(layer)\n",
        "        return parametric_layers      "
      ]
    },
    {
      "cell_type": "markdown",
      "metadata": {
        "id": "Jqwj1suVS6kC"
      },
      "source": [
        "## Loss functions (10 Points)\n",
        "We need to implement loss functions to be able to train our network. We will implement CrossEntropy loss function. But notice that we have implemented `LogSoftMax` in logarithmic way so input of the following class will be logarithm of probabilities.\n",
        "<br>\n",
        "The `CrossEntropyLoss` class represents the cross-entropy loss function, which is commonly used in classification tasks to measure the difference between predicted probabilities and true labels. This method calculates the cross-entropy loss between the predicted probabilities (converted to log probabilities) and the true labels. The cross-entropy loss is computed using the formula: $ -\\frac{1}{b} \\sum_{i=1}^{b} \\log(p_{i, \\text{target}_i}) $, where the value inside the parentheses is the predicted probability of the correct class for the ith sample."
      ]
    },
    {
      "cell_type": "code",
      "execution_count": 40,
      "metadata": {
        "id": "HIBN2fmBpYGG"
      },
      "outputs": [],
      "source": [
        "\n",
        "\n",
        "class CrossEntropyLoss(Module):\n",
        "    def __init__(self):\n",
        "        self.cache = dict()\n",
        "        self.grads = dict()\n",
        "\n",
        "    def _forward(self, logprobs, targets):\n",
        "        batch_size = logprobs.shape[0]\n",
        "        # Convert log probabilities to probabilities\n",
        "        probs = np.exp(logprobs)\n",
        "        # Compute the negative log likelihood loss\n",
        "        target_logprobs = logprobs[np.arange(batch_size), targets]\n",
        "        loss = -np.mean(target_logprobs)\n",
        "        # Store for backpropagation\n",
        "        self.cache['logprobs'] = logprobs\n",
        "        self.cache['targets'] = targets\n",
        "        self.cache['batch_size'] = batch_size\n",
        "        return loss\n",
        "\n",
        "    def backward(self, upstream):\n",
        "        logprobs = self.cache['logprobs']\n",
        "        targets = self.cache['targets']\n",
        "        batch_size = self.cache['batch_size']\n",
        "\n",
        "        # Initialize gradients with respect to log probabilities\n",
        "        dL_dlogprobs = np.zeros_like(logprobs)\n",
        "        dL_dlogprobs[np.arange(batch_size), targets] -= 1 / batch_size\n",
        "        # Multiply by upstream gradient\n",
        "        dL_dlogprobs *= upstream\n",
        "\n",
        "        self.grads['x'] = dL_dlogprobs\n",
        "\n",
        "    def __call__(self, logprobs, targets):\n",
        "        return self._forward(logprobs, targets)\n",
        "\n"
      ]
    },
    {
      "cell_type": "code",
      "execution_count": 41,
      "metadata": {
        "id": "2neGoIaxVVki"
      },
      "outputs": [
        {
          "name": "stdout",
          "output_type": "stream",
          "text": [
            "Relative error of delta-loss:\n",
            "3.327145416815998e-13\n"
          ]
        }
      ],
      "source": [
        "###################################\n",
        "#     Do not change this cell     #\n",
        "#   output must be from o(e-10)   #\n",
        "###################################\n",
        "\n",
        "def check_gradient_ce(ce, h=0.0001):\n",
        "    np.random.seed(123123)\n",
        "    target = np.random.randint(5, size=10)\n",
        "    probs = np.random.random(size=(10, 5))\n",
        "    upstream = 1\n",
        "\n",
        "    new_probs = probs + h\n",
        "    new_val = ce(new_probs, target)\n",
        "    old_val = ce(probs, target)\n",
        "    delta_output = new_val - old_val\n",
        "    delta_loss_indirect = np.sum(delta_output * upstream)\n",
        "\n",
        "    ce.backward(upstream)\n",
        "    delta_loss_direct = np.sum(h * ce.grads['x'])\n",
        "\n",
        "    print(f'Relative error of delta-loss:\\n{rel_error(delta_loss_indirect, delta_loss_direct)}')\n",
        "\n",
        "ce = CrossEntropyLoss()\n",
        "check_gradient_ce(ce, h=0.0001)"
      ]
    },
    {
      "cell_type": "markdown",
      "metadata": {
        "id": "LudbmXBrS6kC"
      },
      "source": [
        "## Optimization (15 Points)\n",
        "\n",
        "Now that we have our network and loss function, we need to update model paremeters. We can do so by using `Optimizer` class that perform updating rule on model parameters. You need to implement `sgd`, `adam` and `momentum` strategy for this optimizers. Becareful to consider regularization update for linear units that require regularization.\n",
        "<br>\n",
        "SGD:\n",
        "<br>\n",
        "$$\n",
        "\\theta = \\theta - \\eta \\cdot \\nabla_{\\theta}J(\\theta)\n",
        "$$\n",
        "<br>\n",
        "Momentum:\n",
        "<br>\n",
        "$$\n",
        "\\begin{aligned}\n",
        "v &= \\mu \\cdot v - \\eta \\cdot \\nabla_{\\theta}J(\\theta) \\\\\n",
        "\\theta &= \\theta + v\n",
        "\\end{aligned}\n",
        "$$\n",
        "<br>\n",
        "Adam:\n",
        "<br>\n",
        "\\begin{align*}\n",
        "m_t &= \\beta_1 \\cdot m_{t-1} + (1 - \\beta_1) \\cdot \\nabla_{\\theta}J(\\theta) \\\\\n",
        "v_t &= \\beta_2 \\cdot v_{t-1} + (1 - \\beta_2) \\cdot (\\nabla_{\\theta}J(\\theta))^2 \\\\\n",
        "\\hat{m}_t &= \\frac{m_t}{1 - \\beta_1^t} \\\\\n",
        "\\hat{v}_t &= \\frac{v_t}{1 - \\beta_2^t} \\\\\n",
        "\\theta &= \\theta - \\eta \\cdot \\frac{\\hat{m}_t}{\\sqrt{\\hat{v}_t} + \\epsilon}\n",
        "\\end{align*}"
      ]
    },
    {
      "cell_type": "code",
      "execution_count": 42,
      "metadata": {},
      "outputs": [],
      "source": [
        "import numpy as np\n",
        "\n",
        "class Optimizer():\n",
        "    def __init__(self, layers, strategy, lr):\n",
        "        self.layers = layers\n",
        "        self.strategy = strategy\n",
        "        self.lr = lr\n",
        "        self.strategies = {\n",
        "            'sgd': self._sgd,\n",
        "            'momentum': self._momentum,\n",
        "            'adam': self._adam,\n",
        "        }\n",
        "        self.momentum_cache = {id(layer): {'velocity': {} for param in layer.params} for layer in layers}\n",
        "        self.adam_cache = {id(layer): {'m': {}, 'v': {}} for layer in layers}\n",
        "\n",
        "    def step(self, epoch):\n",
        "        self.strategies[self.strategy](epoch)\n",
        "\n",
        "    def _sgd(self, epoch):\n",
        "        learning_rate = self.lr(epoch)\n",
        "        for layer in self.layers:\n",
        "            for param, grad in layer.grads.items():\n",
        "                update = learning_rate * grad\n",
        "                layer.params[param] -= update\n",
        "\n",
        "    def _momentum(self, epoch, momentum=0.9):\n",
        "        learning_rate = self.lr(epoch)\n",
        "        for layer in self.layers:\n",
        "            for param, grad in layer.grads.items():\n",
        "                velocity = self.momentum_cache[id(layer)]['velocity'].get(param, np.zeros_like(grad))\n",
        "                velocity = momentum * velocity - learning_rate * grad\n",
        "                self.momentum_cache[id(layer)]['velocity'][param] = velocity\n",
        "                layer.params[param] += velocity\n",
        "\n",
        "    def _adam(self, epoch, beta1=0.9, beta2=0.999, eps=1e-8):\n",
        "        learning_rate = self.lr(epoch)\n",
        "        for layer in self.layers:\n",
        "            for param, grad in layer.grads.items():\n",
        "                m = self.adam_cache[id(layer)]['m'].get(param, np.zeros_like(grad))\n",
        "                v = self.adam_cache[id(layer)]['v'].get(param, np.zeros_like(grad))\n",
        "                m = beta1 * m + (1 - beta1) * grad\n",
        "                v = beta2 * v + (1 - beta2) * (grad ** 2)\n",
        "                self.adam_cache[id(layer)]['m'][param] = m\n",
        "                self.adam_cache[id(layer)]['v'][param] = v\n",
        "                m_hat = m / (1 - beta1 ** (epoch + 1))  # Correct bias for m\n",
        "                v_hat = v / (1 - beta2 ** (epoch + 1))  # Correct bias for v\n",
        "                update = learning_rate * m_hat / (np.sqrt(v_hat) + eps)\n",
        "                layer.params[param] -= update\n"
      ]
    },
    {
      "cell_type": "code",
      "execution_count": 43,
      "metadata": {
        "id": "pDROgraatB0p"
      },
      "outputs": [],
      "source": [
        "class Optimizer():\n",
        "    \"\"\"\n",
        "    Our main optimization class.\n",
        "\n",
        "    You can add arguments to _sgd and _momentum function if you need to do so, and\n",
        "    pass this arguments to step function when using optimizer. Don't change __init__\n",
        "    or step function.\n",
        "    \"\"\"\n",
        "\n",
        "    def __init__(self, layers, strategy, lr):\n",
        "        \"\"\"\n",
        "        Initialize the optimizer.\n",
        "\n",
        "        Args:\n",
        "            layers: Model layers (those whose parameters we want to update).\n",
        "            strategy: Optimization strategy ('sgd', 'momentum', or 'adam').\n",
        "            lr (callable): Learning rate function that takes the epoch as input.\n",
        "        \"\"\"\n",
        "        self.layers = layers\n",
        "        self.strategy = strategy\n",
        "        self.lr = lr\n",
        "        self.strategies = {\n",
        "            'sgd': self._sgd,\n",
        "            'momentum': self._momentum,\n",
        "            'adam': self._adam,\n",
        "        }\n",
        "        self.momentum_changes = dict([])\n",
        "\n",
        "    def step(self, *args):\n",
        "        \"\"\"\n",
        "        Perform the specified update strategy on all layer parameters.\n",
        "\n",
        "        Args:\n",
        "            *args: Additional arguments specific to the chosen strategy.\n",
        "        \"\"\"\n",
        "        self.strategies[self.strategy](*args)\n",
        "\n",
        "    def _sgd(self, epoch):\n",
        "        \"\"\"\n",
        "        Perform stochastic gradient descent update on layer parameters.\n",
        "\n",
        "        Args:\n",
        "            epoch: Current training epoch.\n",
        "        \"\"\"\n",
        "        #####################################################\n",
        "        ##         SGD optimizer implementation            ##\n",
        "        ####################[Your Code]######################        \n",
        "        for layer in self.layers:\n",
        "            if hasattr(layer, 'params'):\n",
        "                for param_name, param_value in layer.params.items():\n",
        "                    if param_name in layer.grads.keys() and param_name != 'reg':\n",
        "                        gradient = layer.grads[param_name]\n",
        "                        if param_name == 'W' and 'reg' in layer.grads.keys():\n",
        "                            gradient += layer.grads['reg']\n",
        "                        layer.params[param_name] -= self.lr(epoch) * gradient\n",
        "\n",
        "    def _momentum(self, epoch, momentum=0.9):\n",
        "        \"\"\"\n",
        "        Perform momentum update on layer parameters.\n",
        "\n",
        "        Args:\n",
        "            epoch: Current training epoch.\n",
        "            momentum: Momentum coefficient.\n",
        "        \"\"\"\n",
        "        #####################################################\n",
        "        ##       Momentum optimizer implementation         ##\n",
        "        ####################[Your Code]######################\n",
        "        for layer in self.layers:\n",
        "            if hasattr(layer, 'params'):\n",
        "                for param_name, param_value in layer.params.items():\n",
        "                    if param_name in layer.grads.keys() and param_name != 'reg':\n",
        "                        gradient = layer.grads[param_name]\n",
        "                        if param_name == 'W' and 'reg' in layer.grads.keys():\n",
        "                            gradient += layer.grads['reg']\n",
        "                        if (layer, param_name) not in self.momentum_changes:\n",
        "                            self.momentum_changes[(layer, param_name)] = np.zeros_like(gradient)\n",
        "                        velocity = self.__momentum_change(momentum, (layer, param_name), gradient, epoch)\n",
        "                        layer.params[param_name] += velocity\n",
        "\n",
        "    def __momentum_change(self, momentum, key, value):\n",
        "        \"\"\"\n",
        "        Update momentum for a specific parameter.\n",
        "\n",
        "        Args:\n",
        "            momentum: Current momentum coefficient.\n",
        "            key: Tuple representing the parameter index and type.\n",
        "            value: Gradient value for the parameter.\n",
        "\n",
        "        Returns:\n",
        "            float: Updated momentum value.\n",
        "        \"\"\"\n",
        "        #####################################################\n",
        "        ##   Momentum optimizer for a specific parameter   ##\n",
        "        ####################[Your Code]######################        \n",
        "        layer, param_name = key\n",
        "        self.momentum_changes[(layer, param_name)] = momentum * self.momentum_changes[(layer, param_name)] - self.lr(epoch) * value\n",
        "        return self.momentum_changes[(layer, param_name)]\n",
        "\n",
        "    def _adam(self, epoch, beta1=0.9, beta2=0.999, eps=1e-8):\n",
        "        \"\"\"\n",
        "        Perform Adam update on layer parameters.\n",
        "\n",
        "        Args:\n",
        "            epoch: Current training epoch.\n",
        "            beta1: Exponential decay rate for first moment estimates.\n",
        "            beta2: Exponential decay rate for second moment estimates.\n",
        "            eps: Small constant to prevent division by zero.\n",
        "        \"\"\"\n",
        "        #####################################################\n",
        "        ##         Adam optimizer implementation           ##\n",
        "        ####################[Your Code]######################\n",
        "        for layer in self.layers:\n",
        "            if hasattr(layer, 'params'):\n",
        "                for param_name, param_value in layer.params.items():\n",
        "                    if param_name in layer.grads.keys() and param_name != 'reg':\n",
        "                        gradient = layer.grads[param_name]\n",
        "                        if param_name == 'W' and 'reg' in layer.grads.keys():\n",
        "                            gradient += layer.grads['reg']\n",
        "                        if (layer, param_name) not in self.momentum_changes:\n",
        "                            self.momentum_changes[(layer, param_name, 'm')] = np.zeros_like(gradient)\n",
        "                            self.momentum_changes[(layer, param_name, 'v')] = np.zeros_like(gradient)\n",
        "                        velocity = self.__adam_change(epoch, beta1, beta2, eps, (layer, param_name), gradient)\n",
        "                        layer.params[param_name] -= self.lr(epoch) * velocity\n",
        "\n",
        "    def __adam_change(self, epoch, beta1, beta2, eps, key, value):\n",
        "        \"\"\"\n",
        "        Update Adam parameters for a specific parameter.\n",
        "\n",
        "        Args:\n",
        "            epoch: Current training epoch.\n",
        "            beta1: Exponential decay rate for first moment estimates.\n",
        "            beta2: Exponential decay rate for second moment estimates.\n",
        "            eps: Small constant to prevent division by zero.\n",
        "            key: Tuple representing the parameter index and type.\n",
        "            value: Gradient value for the parameter.\n",
        "\n",
        "        Returns:\n",
        "            float: Updated parameter value.\n",
        "        \"\"\"\n",
        "        #####################################################\n",
        "        ##     Adam optimizer for a specific parameter     ##\n",
        "        ####################[Your Code]######################\n",
        "        layer, param_name = key\n",
        "        m = beta1 * self.momentum_changes[(layer, param_name, 'm')] + (1 - beta1) * value\n",
        "        v = beta2 * self.momentum_changes[(layer, param_name, 'v')] + (1 - beta2) * (value ** 2)\n",
        "        m_hat = m / (1 - beta1 ** (epoch + 1))\n",
        "        v_hat = v / (1 - beta2 ** (epoch + 1))\n",
        "        self.momentum_changes[(layer, param_name, 'm')] = m\n",
        "        self.momentum_changes[(layer, param_name, 'v')] = v\n",
        "        return m_hat / (np.sqrt(v_hat) + eps)"
      ]
    },
    {
      "cell_type": "markdown",
      "metadata": {
        "id": "SAFpEpkYS6kD"
      },
      "source": [
        "# Section 2: MNIST Classification (35 Points)\n",
        "\n",
        "Now that we can build a neural network we want to solve MNIST classification problem. This dataset consists of 70000 $28 \\times 28$ grayscale images in 10 classes."
      ]
    },
    {
      "cell_type": "markdown",
      "metadata": {
        "id": "EAtiFyXcS6kD"
      },
      "source": [
        "## Data preparation (5 Points)"
      ]
    },
    {
      "cell_type": "code",
      "execution_count": 44,
      "metadata": {
        "id": "tDptlYzvS6kD"
      },
      "outputs": [
        {
          "name": "stdout",
          "output_type": "stream",
          "text": [
            "(60000, 28, 28)\n",
            "(10000, 28, 28)\n",
            "MNIST dataset loaded and split into train and test sets.\n"
          ]
        }
      ],
      "source": [
        "#######################################################################\n",
        "##  Download MNIST dataset and split it to train and test (1 point)  ##\n",
        "##############################[Your Code]##############################\n",
        "import tensorflow as tf\n",
        "import torch\n",
        "from torchvision import datasets, transforms\n",
        "\n",
        "# # Define a transform to normalize the data\n",
        "# transform = transforms.Compose([transforms.ToTensor(),\n",
        "#                                 transforms.Normalize((0.5,), (0.5,))])\n",
        "\n",
        "# # Download and load the training data\n",
        "# trainset = datasets.MNIST('~/.pytorch/MNIST_data/', download=True, train=True, transform=transform)\n",
        "# trainloader = torch.utils.data.DataLoader(trainset, batch_size=64, shuffle=True)\n",
        "\n",
        "# # Download and load the test data\n",
        "# testset = datasets.MNIST('~/.pytorch/MNIST_data/', download=True, train=False, transform=transform)\n",
        "# testloader = torch.utils.data.DataLoader(testset, batch_size=64, shuffle=False)\n",
        "\n",
        "# print(\"MNIST dataset loaded and split into train and test sets.\")\n",
        "\n",
        "# Download and prepare the MNIST dataset\n",
        "mnist_dataset = tf.keras.datasets.mnist\n",
        "(train_images, train_labels), (test_images, test_labels) = mnist_dataset.load_data()\n",
        "\n",
        "# Normalize the pixel values of the images\n",
        "train_images, test_images = train_images / 255.0, test_images / 255.0\n",
        "\n",
        "print(train_images.shape)\n",
        "print(test_images.shape)\n",
        "print(\"MNIST dataset loaded and split into train and test sets.\")\n",
        "\n",
        "\n",
        "\n",
        "\n",
        "\n"
      ]
    },
    {
      "cell_type": "code",
      "execution_count": 45,
      "metadata": {
        "id": "W1Td102MS6kD"
      },
      "outputs": [
        {
          "name": "stderr",
          "output_type": "stream",
          "text": [
            "/Users/ali/anaconda3/lib/python3.10/site-packages/sklearn/datasets/_openml.py:932: FutureWarning: The default value of `parser` will change from `'liac-arff'` to `'auto'` in 1.4. You can set `parser='auto'` to silence this warning. Therefore, an `ImportError` will be raised from 1.4 if the dataset is dense and pandas is not installed. Note that the pandas parser may return different data types. See the Notes Section in fetch_openml's API doc for details.\n",
            "  warn(\n"
          ]
        },
        {
          "name": "stdout",
          "output_type": "stream",
          "text": [
            "train set size = 42000, validation set size = 14000, test set size = 14000\n"
          ]
        }
      ],
      "source": [
        "from torch.utils.data import random_split\n",
        "##############################################\n",
        "##  Split train set to train/val (1 point)  ##\n",
        "################[Your Code]###################\n",
        "\n",
        "MNIST = fetch_openml('mnist_784')\n",
        "MNIST.target = MNIST.target.astype(np.uint8)\n",
        "split_index = int(0.8 * len(MNIST.target))\n",
        "train_data, x_test = MNIST.data[:split_index].to_numpy(), MNIST.data[split_index:].to_numpy()\n",
        "train_label, y_test = MNIST.target[:split_index].to_numpy(), MNIST.target[split_index:].to_numpy()\n",
        "\n",
        "x_train, x_val = train_data[:int(0.75 * len(train_data))], train_data[int(0.75 * len(train_data)):]\n",
        "y_train, y_val = train_label[:int(0.75 * len(train_data))], train_label[int(0.75 * len(train_data)):]\n",
        "\n",
        "##############################################\n",
        "# Print shapes to verify\n",
        "print(f\"train set size = {len(x_train)}, validation set size = {len(x_val)}, test set size = {len(x_test)}\")\n",
        "\n"
      ]
    },
    {
      "cell_type": "code",
      "execution_count": 46,
      "metadata": {
        "id": "Cj3DiuBcS6kE"
      },
      "outputs": [
        {
          "data": {
            "image/png": "[encoded data removed]",
            "text/plain": [
              "<Figure size 1400x1400 with 50 Axes>"
            ]
          },
          "metadata": {},
          "output_type": "display_data"
        }
      ],
      "source": [
        "###################################################\n",
        "## Visualize 5 samples from each class (1 point) ##\n",
        "##################[Your Code]######################\n",
        "import matplotlib.pyplot as plt\n",
        "import numpy as np\n",
        "\n",
        "fig, axes = plt.subplots(10, 5, figsize=(14, 14))\n",
        "\n",
        "for digit in range(10):\n",
        "    digit_indices = np.where(y_train == digit)[0][:5]\n",
        "    \n",
        "    for i, idx in enumerate(digit_indices):\n",
        "        axes[digit, i].imshow(x_train[idx].reshape(28, 28), cmap='cividis')  # Changed color map to 'cividis'\n",
        "        axes[digit, i].set_title(f\"Digit {digit}\")\n",
        "        axes[digit, i].axis('off')\n",
        "        \n",
        "plt.tight_layout()\n",
        "plt.show()\n"
      ]
    },
    {
      "cell_type": "markdown",
      "metadata": {
        "id": "o0_ki4uUcAMR"
      },
      "source": [
        "Now normalize the data (mean=0 and std=1) and also flattern the input because we have just linear layers and we need two have a vector as input."
      ]
    },
    {
      "cell_type": "code",
      "execution_count": 47,
      "metadata": {
        "id": "0bgNGW_9S6kE"
      },
      "outputs": [
        {
          "name": "stdout",
          "output_type": "stream",
          "text": [
            "x_train shape = (42000, 784), x_val shape = (14000, 784), x_test shape = (14000, 784)\n"
          ]
        }
      ],
      "source": [
        "#####################################################\n",
        "##        Normalize and flatten X (2 points)       ##\n",
        "####################[Your Code]######################\n",
        "x_train_normalized = (x_train - np.mean(x_train, axis=0)) / (np.std(x_train, axis=0) + 1e-8)\n",
        "x_val_normalized = (x_val - np.mean(x_train, axis=0)) / (np.std(x_train, axis=0) + 1e-8)\n",
        "x_test_normalized = (x_test - np.mean(x_train, axis=0)) / (np.std(x_train, axis=0) + 1e-8)\n",
        "x_train_normalized = x_train.reshape(x_train.shape[0], -1)\n",
        "x_val_normalized = x_val.reshape(x_val.shape[0], -1)\n",
        "x_test_normalized = x_test.reshape(x_test.shape[0], -1)\n",
        "\n",
        "#####################################################\n",
        "# Print shapes to verify\n",
        "print(f\"x_train shape = {x_train_normalized.shape}, x_val shape = {x_val_normalized.shape}, x_test shape = {x_test_normalized.shape}\")"
      ]
    },
    {
      "cell_type": "markdown",
      "metadata": {
        "id": "92Qo6s49S6kE"
      },
      "source": [
        "## Train and Test Model (35 Points)"
      ]
    },
    {
      "cell_type": "markdown",
      "metadata": {
        "id": "JrtIQY1KS6kE"
      },
      "source": [
        "### Batch Sampler (10 Points)\n",
        "We need to sample bathces from our dataset to train model. Complete the following class to have a random sampler (8 Points)."
      ]
    },
    {
      "cell_type": "code",
      "execution_count": 48,
      "metadata": {
        "id": "QR3sYrH1S6kE"
      },
      "outputs": [],
      "source": [
        "class RandomSampler(object):\n",
        "    def __init__(self, batch_size, dataset, dtype):\n",
        "        \"\"\"\n",
        "        Args:\n",
        "            batch_size : sampler batch size\n",
        "            dataset : dataset we want to get batch from that\n",
        "            dtype : one of {'train', 'test', 'val'}\n",
        "        \"\"\"\n",
        "        #####################################################\n",
        "        ##          Initialize your RandomSampler          ##\n",
        "        ####################[Your Code]######################\n",
        "        \n",
        "        self.batch_size = batch_size\n",
        "        self.dataset = dataset\n",
        "        self.dtype = dtype\n",
        "        \n",
        "        self.data, self.labels = dataset[0], dataset[1]\n",
        "        \n",
        "        self.num_batches = len(self.data) // self.batch_size\n",
        "\n",
        "\n",
        "    def __len__(self):\n",
        "        #####################################################\n",
        "        ##          Return length of your sampler          ##\n",
        "        ####################[Your Code]######################\n",
        "\n",
        "        return self.num_batches\n",
        "\n",
        "    def __iter__(self):\n",
        "        \"\"\"\n",
        "        This function is called when we iterate an object of this class and\n",
        "        yields one batch on each call.\n",
        "\n",
        "        Yields:\n",
        "            (x, y) : tuple of bathces of x and y\n",
        "        \"\"\"\n",
        "        #######################################################\n",
        "        ##  Yield a tuple of x and y from specified dataset  ##\n",
        "        #####################[Your Code]#######################\n",
        "        indices = np.arange(len(self.data))\n",
        "        np.random.shuffle(indices)\n",
        "        \n",
        "        for start_idx in range(0, len(self.data), self.batch_size):\n",
        "            end_idx = start_idx + self.batch_size\n",
        "            if end_idx > len(self.data):\n",
        "                break\n",
        "            \n",
        "            batch_indices = indices[start_idx:end_idx]\n",
        "            yield self.data[batch_indices], self.labels[batch_indices]"
      ]
    },
    {
      "cell_type": "markdown",
      "metadata": {
        "id": "fR5ZLmCPS6kF"
      },
      "source": [
        "Fill the following functions to update a confusion matrix and calculate f1 score for a confusion matrix (2 Points)."
      ]
    },
    {
      "cell_type": "code",
      "execution_count": 49,
      "metadata": {
        "id": "X6XIJfSBS6kF"
      },
      "outputs": [],
      "source": [
        "def update_confusion_matrix(conf_matrix, preds, reals):\n",
        "    \"\"\"\n",
        "    Updates confusion matrix\n",
        "\n",
        "    Args:\n",
        "        conf_matrix : input confusion matrix\n",
        "        preds : array of predicted labels\n",
        "        reals : array of real labels\n",
        "\n",
        "    Returns:\n",
        "        conf_matrix : updated confusion matrix\n",
        "    \"\"\"\n",
        "    #######################################################\n",
        "    ##           Update the confusion matrix             ##\n",
        "    #####################[Your Code]#######################\n",
        "\n",
        "    for real, pred in zip(reals, preds):\n",
        "        conf_matrix[real, pred] += 1\n",
        "        \n",
        "    return conf_matrix\n",
        "\n",
        "\n",
        "def f1_score(confusion_matrix):\n",
        "    \"\"\"\n",
        "    calculate macro f1 score from given confusion matrix\n",
        "\n",
        "    Args:\n",
        "        confusion_matrix : given confusion matrix\n",
        "\n",
        "    Returns:\n",
        "        f1 : macro f1 score\n",
        "    \"\"\"\n",
        "    #######################################################\n",
        "    ##                Calculate f1 score                 ##\n",
        "    #####################[Your Code]#######################\n",
        "\n",
        "    num_classes = confusion_matrix.shape[0]\n",
        "    f1_scores = []\n",
        "\n",
        "    for i in range(num_classes):\n",
        "        tp = confusion_matrix[i, i]\n",
        "        fp = np.sum(confusion_matrix[:, i]) - tp\n",
        "        fn = np.sum(confusion_matrix[i, :]) - tp\n",
        "        if tp + fp > 0:\n",
        "            precision = tp / (tp + fp)\n",
        "        else:\n",
        "            precision = 0\n",
        "        if tp + fn > 0:\n",
        "            recall = tp / (tp + fn)\n",
        "        else:\n",
        "            recall = 0\n",
        "        if precision + recall > 0:\n",
        "            f1 = 2 * (precision * recall) / (precision + recall)\n",
        "        else:\n",
        "            f1 = 0\n",
        "        f1_scores.append(f1)\n",
        "\n",
        "    return np.mean(f1_scores)"
      ]
    },
    {
      "cell_type": "markdown",
      "metadata": {
        "id": "P5Amgy2PS6kF"
      },
      "source": [
        "### Define Model (5 Points)\n",
        "Define an MLP model to solve the classification problem. Try to define a good initializer function (not just a simple random initializer)"
      ]
    },
    {
      "cell_type": "code",
      "execution_count": 50,
      "metadata": {
        "id": "93R2oHjOS6kJ"
      },
      "outputs": [],
      "source": [
        "def initializer(x, y):\n",
        "    #######################################################\n",
        "    ##         Define your initilizer (1 Point)          ##\n",
        "    #####################[Your Code]#######################\n",
        "    \n",
        "    std_dev = np.sqrt(2 / x)\n",
        "    return np.random.normal(0, std_dev, size=(x, y))\n",
        "\n",
        "\n",
        "model = MLPModel([\n",
        "    #######################################################\n",
        "    ##           Define your model (1 Point)             ##\n",
        "    #####################[Your Code]#######################\n",
        "    LinearLayer(784, 256, initializer=initializer, reg=True, alpha=0.001),\n",
        "    Dropout(0.2),\n",
        "    ReLU(),\n",
        "    BatchNorm(256),\n",
        "    LinearLayer(256, 128, initializer=initializer, reg=True, alpha=0.001),\n",
        "    ReLU(),\n",
        "    BatchNorm(128),\n",
        "    LinearLayer(128, 10, initializer=initializer, reg=True, alpha=0.001),\n",
        "    LogSoftMax()\n",
        "])"
      ]
    },
    {
      "cell_type": "code",
      "execution_count": 51,
      "metadata": {
        "id": "c2mr6NZPS6kK"
      },
      "outputs": [],
      "source": [
        "#######################################################\n",
        "##           Initialize hyperparameters              ##\n",
        "#####################[Your Code]#######################\n",
        "\n",
        "n_epochs = 15\n",
        "batch_size = 64\n",
        "\n",
        "def lr(epoch):\n",
        "    #######################################################\n",
        "    ## Define LR Scheduler for your optimizer (2 Points) ##\n",
        "    #####################[Your Code]#######################\n",
        "    \n",
        "    return 0.09 / (1 + 0.6* epoch)"
      ]
    },
    {
      "cell_type": "code",
      "execution_count": 52,
      "metadata": {
        "id": "Ry5WVxRIS6kK"
      },
      "outputs": [],
      "source": [
        "##################################################\n",
        "## Define optimizer, loss and sampler (1 Point) ##\n",
        "##################[Your Code]#####################\n",
        "optimizer = Optimizer(\n",
        "    layers=model.get_parameters(),\n",
        "    strategy='adam',\n",
        "    lr=lr\n",
        ")\n",
        "\n",
        "cross_entropy = CrossEntropyLoss()\n",
        "\n"
      ]
    },
    {
      "cell_type": "markdown",
      "metadata": {
        "id": "wRiV9H-jS6kK"
      },
      "source": [
        "### Train Model (17 Points)\n",
        "\n",
        "Fill in the below cell to train the model. Store each epoch loss, accuracy and f1-score. Use f1-score to choose best epoch.\n",
        "\n",
        "**Note1**: To do backpropagation you need to first call `backward` function of criterion with 1 as its argument to have gradient of loss w.r.t output of this module and then using model `backward` function with `criterion.grads['x']` argument.\n",
        "\n",
        "**Note2**: You can ignore regularization term in your total loss value and just use criterion, but you must consider that during updating."
      ]
    },
    {
      "cell_type": "code",
      "execution_count": 53,
      "metadata": {
        "id": "ecZeuL1VS6kK",
        "scrolled": true
      },
      "outputs": [
        {
          "name": "stdout",
          "output_type": "stream",
          "text": [
            "Epoch [1/15], Train - Loss: 14.6442, Accuracy: 0.2280, F1-score: 0.1878\n",
            "Epoch [1/15], Validation - Loss: 25.1651, Accuracy: 0.1547, F1-score: 0.0843\n",
            "Epoch [2/15], Train - Loss: 12.3048, Accuracy: 0.3803, F1-score: 0.2846\n",
            "Epoch [2/15], Validation - Loss: 16.9874, Accuracy: 0.2818, F1-score: 0.1845\n",
            "Epoch [3/15], Train - Loss: 9.9564, Accuracy: 0.4631, F1-score: 0.3466\n",
            "Epoch [3/15], Validation - Loss: 12.7952, Accuracy: 0.4149, F1-score: 0.3206\n",
            "Epoch [4/15], Train - Loss: 8.5303, Accuracy: 0.4958, F1-score: 0.3720\n",
            "Epoch [4/15], Validation - Loss: 9.5951, Accuracy: 0.4799, F1-score: 0.3689\n",
            "Epoch [5/15], Train - Loss: 8.0530, Accuracy: 0.5120, F1-score: 0.3852\n",
            "Epoch [5/15], Validation - Loss: 8.4471, Accuracy: 0.5003, F1-score: 0.3824\n",
            "Epoch [6/15], Train - Loss: 7.8245, Accuracy: 0.5208, F1-score: 0.3912\n",
            "Epoch [6/15], Validation - Loss: 7.5563, Accuracy: 0.4809, F1-score: 0.3821\n",
            "Epoch [7/15], Train - Loss: 7.3232, Accuracy: 0.5606, F1-score: 0.4567\n",
            "Epoch [7/15], Validation - Loss: 6.5175, Accuracy: 0.5920, F1-score: 0.4939\n",
            "Epoch [8/15], Train - Loss: 7.4753, Accuracy: 0.5939, F1-score: 0.4908\n",
            "Epoch [8/15], Validation - Loss: 8.3880, Accuracy: 0.5696, F1-score: 0.4820\n",
            "Epoch [9/15], Train - Loss: 7.5338, Accuracy: 0.5981, F1-score: 0.4945\n",
            "Epoch [9/15], Validation - Loss: 8.2323, Accuracy: 0.5613, F1-score: 0.4790\n",
            "Epoch [10/15], Train - Loss: 7.3533, Accuracy: 0.6023, F1-score: 0.4984\n",
            "Epoch [10/15], Validation - Loss: 7.8578, Accuracy: 0.6009, F1-score: 0.5071\n",
            "Epoch [11/15], Train - Loss: 7.6994, Accuracy: 0.6044, F1-score: 0.5003\n",
            "Epoch [11/15], Validation - Loss: 7.5780, Accuracy: 0.5770, F1-score: 0.4916\n",
            "Epoch [12/15], Train - Loss: 8.0396, Accuracy: 0.6066, F1-score: 0.5030\n",
            "Epoch [12/15], Validation - Loss: 9.2688, Accuracy: 0.5772, F1-score: 0.4933\n",
            "Epoch [13/15], Train - Loss: 8.0394, Accuracy: 0.6132, F1-score: 0.5088\n",
            "Epoch [13/15], Validation - Loss: 8.5888, Accuracy: 0.5821, F1-score: 0.4926\n",
            "Epoch [14/15], Train - Loss: 7.8371, Accuracy: 0.6168, F1-score: 0.5109\n",
            "Epoch [14/15], Validation - Loss: 8.5299, Accuracy: 0.6093, F1-score: 0.5177\n",
            "Epoch [15/15], Train - Loss: 7.7777, Accuracy: 0.6164, F1-score: 0.5109\n",
            "Epoch [15/15], Validation - Loss: 7.7676, Accuracy: 0.6168, F1-score: 0.5163\n",
            "Best validation F1-score: 0.5177 at epoch 14\n"
          ]
        }
      ],
      "source": [
        "##################################################\n",
        "##    Train and validation loop (15 Points)     ##\n",
        "##################[Your Code]#####################\n",
        "\n",
        "train_losses, val_losses = [], []\n",
        "train_accs, val_accs = [], []\n",
        "train_f1, val_f1 = [], []\n",
        "best_model = None\n",
        "best_f1 = 0\n",
        "\n",
        "train_metrics_list = []\n",
        "val_metrics_list = []\n",
        "\n",
        "train_sampler = RandomSampler(batch_size, (x_train_normalized, y_train), 'train')\n",
        "val_sampler = RandomSampler(batch_size, (x_val_normalized, y_val), 'val')\n",
        "\n",
        "for epoch in range(n_epochs):\n",
        "        ##################################################\n",
        "        ##                 Train Phase                  ##\n",
        "        ##################[Your Code]#####################\n",
        "        \n",
        "    epoch_train_loss = 0.0\n",
        "    epoch_train_conf_matrix = np.zeros((10, 10), dtype=int)\n",
        "\n",
        "    for x_batch, y_batch in train_sampler:\n",
        "        predictions = model._forward(x_batch, mode='train')\n",
        "        \n",
        "        train_loss = cross_entropy._forward(predictions, y_batch)\n",
        "        epoch_train_loss += train_loss\n",
        "        \n",
        "        upstream_grad = 1\n",
        "        cross_entropy.backward(upstream_grad)\n",
        "        model.backward(cross_entropy.grads['x'])\n",
        "        \n",
        "        optimizer.step(epoch)\n",
        "        \n",
        "        epoch_train_conf_matrix = update_confusion_matrix(epoch_train_conf_matrix, \n",
        "                                                         np.argmax(predictions, axis=1), \n",
        "                                                         y_batch)\n",
        "    \n",
        "    epoch_train_loss /= len(train_sampler)\n",
        "    train_losses.append(epoch_train_loss)\n",
        "    \n",
        "    epoch_train_acc = np.trace(epoch_train_conf_matrix) / np.sum(epoch_train_conf_matrix)\n",
        "    train_accs.append(epoch_train_acc)\n",
        "    \n",
        "    epoch_train_f1 = f1_score(epoch_train_conf_matrix)\n",
        "    train_f1.append(epoch_train_f1)\n",
        "\n",
        "        ##################################################\n",
        "        ##      Save epoch metrics for train phase      ##\n",
        "        ##################[Your Code]#####################\n",
        "        \n",
        "    train_metrics = {\n",
        "        'epoch': epoch + 1,\n",
        "        'loss': epoch_train_loss,\n",
        "        'accuracy': epoch_train_acc,\n",
        "        'f1_score': epoch_train_f1\n",
        "    }\n",
        "    train_metrics_list.append(train_metrics)\n",
        "    print(f\"Epoch [{epoch + 1}/{n_epochs}], Train - Loss: {epoch_train_loss:.4f}, Accuracy: {epoch_train_acc:.4f}, F1-score: {epoch_train_f1:.4f}\")\n",
        "    \n",
        "        ##################################################\n",
        "        ##               Validation Phase               ##\n",
        "        ##################[Your Code]#####################\n",
        "    \n",
        "    epoch_val_loss = 0.0\n",
        "    epoch_val_conf_matrix = np.zeros((10, 10), dtype=int)\n",
        "\n",
        "    for x_batch, y_batch in val_sampler:\n",
        "        predictions = model._forward(x_batch, mode='valid')\n",
        "        \n",
        "        val_loss = cross_entropy._forward(predictions, y_batch)\n",
        "        epoch_val_loss += val_loss\n",
        "        \n",
        "        epoch_val_conf_matrix = update_confusion_matrix(epoch_val_conf_matrix, \n",
        "                                                       np.argmax(predictions, axis=1), \n",
        "                                                       y_batch)\n",
        "    \n",
        "    epoch_val_loss /= len(val_sampler)\n",
        "    val_losses.append(epoch_val_loss)\n",
        "    \n",
        "    epoch_val_acc = np.trace(epoch_val_conf_matrix) / np.sum(epoch_val_conf_matrix)\n",
        "    val_accs.append(epoch_val_acc)\n",
        "    \n",
        "    epoch_val_f1 = f1_score(epoch_val_conf_matrix)\n",
        "    val_f1.append(epoch_val_f1)\n",
        "\n",
        "        ##################################################\n",
        "        ##    Save epoch metrics for validation phase   ##\n",
        "        ##################[Your Code]#####################\n",
        "        \n",
        "    validation_metrics = {\n",
        "        'epoch': epoch + 1,\n",
        "        'loss': epoch_val_loss,\n",
        "        'accuracy': epoch_val_acc,\n",
        "        'f1_score': epoch_val_f1\n",
        "    }\n",
        "    val_metrics_list.append(validation_metrics)\n",
        "    print(f\"Epoch [{epoch + 1}/{n_epochs}], Validation - Loss: {epoch_val_loss:.4f}, Accuracy: {epoch_val_acc:.4f}, F1-score: {epoch_val_f1:.4f}\")\n",
        "\n",
        "        ##################################################\n",
        "        ##          Save best model and best f1         ##\n",
        "        ##################[Your Code]#####################\n",
        "    \n",
        "    if epoch_val_f1 > best_f1:\n",
        "        best_f1 = epoch_val_f1\n",
        "        best_model = model\n",
        "        \n",
        "print(f\"Best validation F1-score: {best_f1:.4f} at epoch {np.argmax(val_f1) + 1}\")"
      ]
    },
    {
      "cell_type": "code",
      "execution_count": 54,
      "metadata": {
        "id": "tF76W08HS6kL"
      },
      "outputs": [],
      "source": [
        "##################################################################################################\n",
        "## Plot train and validation loss, accuracy and f1 graphs and lr value at each epoch (2 Points) ##\n",
        "#######################################[Your Code]################################################\n",
        "\n"
      ]
    },
    {
      "cell_type": "markdown",
      "metadata": {
        "id": "LwqVkMjxS6kK"
      },
      "source": [
        "### Test Model (3 Points)"
      ]
    },
    {
      "cell_type": "code",
      "execution_count": 55,
      "metadata": {
        "id": "nH7WTpBES6kL"
      },
      "outputs": [],
      "source": [
        "############################################################\n",
        "##                  Test your best model                  ##\n",
        "##          Report loss, accuracy and f1 metrics          ##\n",
        "##      Also plot the confusion matrix for test data      ##\n",
        "#######################[Your Code]##########################\n",
        "\n"
      ]
    }
  ],
  "metadata": {
    "colab": {
      "provenance": []
    },
    "kernelspec": {
      "display_name": "Python 3",
      "language": "python",
      "name": "python3"
    },
    "language_info": {
      "codemirror_mode": {
        "name": "ipython",
        "version": 3
      },
      "file_extension": ".py",
      "mimetype": "text/x-python",
      "name": "python",
      "nbconvert_exporter": "python",
      "pygments_lexer": "ipython3",
      "version": "3.10.9"
    },
    "vscode": {
      "interpreter": {
        "hash": "4cdab81cfa56356ab5b949f60df5e1e80f63026375d4bba17a1c6608f8c1fd40"
      }
    }
  },
  "nbformat": 4,
  "nbformat_minor": 0
}
